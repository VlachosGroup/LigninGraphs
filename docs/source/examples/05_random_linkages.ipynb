{
 "cells": [
  {
   "cell_type": "markdown",
   "metadata": {},
   "source": [
    "# Random structure generation"
   ]
  },
  {
   "cell_type": "code",
   "execution_count": 1,
   "metadata": {},
   "outputs": [
    {
     "name": "stdout",
     "output_type": "stream",
     "text": [
      "c:\\Users\\yifan\\Documents\\GitHub\\LigninGraphs\n"
     ]
    },
    {
     "name": "stderr",
     "output_type": "stream",
     "text": [
      "RDKit WARNING: [17:54:19] Enabling RDKit 2019.09.3 jupyter extensions\n"
     ]
    }
   ],
   "source": [
    "# set ligning path (optional if installed via pip)\n",
    "import sys, os\n",
    "project_path = os.path.abspath(os.path.join(os.getcwd(), '..\\..\\..'))\n",
    "print(project_path)\n",
    "sys.path.insert(0, project_path)\n",
    "\n",
    "import numpy as np\n",
    "import time\n",
    "\n",
    "import ligning.monomer as mono\n",
    "import ligning.polymer as poly\n",
    "import ligning.utils as ut"
   ]
  },
  {
   "cell_type": "code",
   "execution_count": 2,
   "metadata": {},
   "outputs": [
    {
     "name": "stdout",
     "output_type": "stream",
     "text": [
      "Connect a S to a H unit (in polymer) via a 4-O-5 bond\n",
      "Connect a S to a G unit (in polymer) via a alpha-O-4 bond\n",
      "Connect a S to a H unit (in polymer) via a beta-1 bond\n",
      "Connect a H to a G unit (in polymer) via a 4-O-5 bond\n",
      "Connect a G to a S unit (in polymer) via a beta-1 bond\n",
      "Connect a H to a H unit (in polymer) via a beta-5 bond\n",
      "Connect a G to a S unit (in polymer) via a alpha-O-4 bond\n",
      "Connect a G to a S unit (in polymer) via a 4-O-5 bond\n",
      "Connect a S to a H unit (in polymer) via a beta-5 bond\n",
      "Connect a H to a G unit (in polymer) via a beta-1 bond\n",
      "Connect a H to a S unit (in polymer) via a beta-1 bond\n",
      "Connect a H to a G unit (in polymer) via a alpha-O-4 bond\n",
      "Lignin polymerization: 14 monomers takes 0.18176 s\n"
     ]
    }
   ],
   "source": [
    "# Set the random seed\n",
    "np.random.seed(1)\n",
    "\n",
    "# Starting from a random monomer\n",
    "P0 = mono.Monomer('S')\n",
    "polymer = poly.Polymer(P0)\n",
    "\n",
    "start = time.time()\n",
    "\n",
    "# Set the number of polymerization iteration\n",
    "n_iter = 12\n",
    "\n",
    "# list for graphs\n",
    "P_Gs = []\n",
    "\n",
    "# list for mols\n",
    "P_mols = []\n",
    "\n",
    "# Polymerization loop\n",
    "for i in range(n_iter):\n",
    "    polymer.add_random_monomer()\n",
    "    Px = polymer.G.copy()\n",
    "    P_Gs.append(Px)\n",
    "    Px_mol = ut.graph_to_mol(Px)\n",
    "    P_mols.append(Px_mol)\n",
    "\n",
    "end = time.time()\n",
    "\n",
    "n_monomer = n_iter + 2\n",
    "run_time = end - start \n",
    "\n",
    "print(\"Lignin polymerization: %2d monomers takes %5.5f s\" %(n_monomer, run_time))"
   ]
  }
 ],
 "metadata": {
  "interpreter": {
   "hash": "38801eb67ea81ef06d1ca251525f0b6743527e915f2d3618880a864811495cb3"
  },
  "kernelspec": {
   "display_name": "Python 3.7.6 64-bit ('base': conda)",
   "language": "python",
   "name": "python3"
  },
  "language_info": {
   "codemirror_mode": {
    "name": "ipython",
    "version": 3
   },
   "file_extension": ".py",
   "mimetype": "text/x-python",
   "name": "python",
   "nbconvert_exporter": "python",
   "pygments_lexer": "ipython3",
   "version": "3.7.6"
  },
  "orig_nbformat": 4
 },
 "nbformat": 4,
 "nbformat_minor": 2
}
