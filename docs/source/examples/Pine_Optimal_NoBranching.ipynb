{
 "cells": [
  {
   "cell_type": "markdown",
   "id": "cooperative-stick",
   "metadata": {},
   "source": [
    "# Pine - Optimal Simulation Configuration without Branching"
   ]
  },
  {
   "cell_type": "markdown",
   "id": "sacred-salem",
   "metadata": {},
   "source": [
    "Import Code for Lignin Optimization"
   ]
  },
  {
   "cell_type": "code",
   "execution_count": 1,
   "id": "major-colonial",
   "metadata": {},
   "outputs": [
    {
     "ename": "ModuleNotFoundError",
     "evalue": "No module named 'ligning'",
     "output_type": "error",
     "traceback": [
      "\u001b[1;31m---------------------------------------------------------------------------\u001b[0m",
      "\u001b[1;31mModuleNotFoundError\u001b[0m                       Traceback (most recent call last)",
      "\u001b[1;32m<ipython-input-1-50ea32e7aa17>\u001b[0m in \u001b[0;36m<module>\u001b[1;34m\u001b[0m\n\u001b[1;32m----> 1\u001b[1;33m \u001b[1;32mimport\u001b[0m \u001b[0mligning\u001b[0m\u001b[1;33m.\u001b[0m\u001b[0moptimization\u001b[0m \u001b[1;32mas\u001b[0m \u001b[0mopt\u001b[0m\u001b[1;33m\u001b[0m\u001b[1;33m\u001b[0m\u001b[0m\n\u001b[0m",
      "\u001b[1;31mModuleNotFoundError\u001b[0m: No module named 'ligning'"
     ]
    }
   ],
   "source": [
    "import sys\n",
    "sys.path.append('../../..')\n",
    "import ligning.optimization as opt\n",
    "import ligning.characterization as ch\n",
    "import ligning.utils as ut"
   ]
  },
  {
   "cell_type": "markdown",
   "id": "rapid-ukraine",
   "metadata": {},
   "source": [
    "Set the destination of simulation outputs"
   ]
  },
  {
   "cell_type": "code",
   "execution_count": null,
   "id": "animated-country",
   "metadata": {},
   "outputs": [],
   "source": [
    "library_name = 'pine_weights'\n",
    "trial_index=None"
   ]
  },
  {
   "cell_type": "markdown",
   "id": "rocky-usage",
   "metadata": {},
   "source": [
    "Set distribution of linkages<br>\n",
    "['4-O-5', 'alpha-O-4', 'beta-O-4', '5-5', 'beta-5', 'beta-beta', 'beta-1']"
   ]
  },
  {
   "cell_type": "code",
   "execution_count": null,
   "id": "plain-difficulty",
   "metadata": {},
   "outputs": [],
   "source": [
    "linkage_distribution_input = [0, 0, 66, 0.1, 18, 16, 0] "
   ]
  },
  {
   "cell_type": "markdown",
   "id": "radio-french",
   "metadata": {},
   "source": [
    "Set monomer distributions<br>\n",
    "['H', 'G', 'S']"
   ]
  },
  {
   "cell_type": "code",
   "execution_count": null,
   "id": "vanilla-crash",
   "metadata": {},
   "outputs": [],
   "source": [
    "monomer_distribution_input = [0, 100, 0]"
   ]
  },
  {
   "cell_type": "markdown",
   "id": "worse-creation",
   "metadata": {},
   "source": [
    "Setting for additional metrics in simulation output"
   ]
  },
  {
   "cell_type": "code",
   "execution_count": null,
   "id": "authentic-conducting",
   "metadata": {},
   "outputs": [],
   "source": [
    "verbose = False\n",
    "additional_metrics = True"
   ]
  },
  {
   "cell_type": "markdown",
   "id": "welsh-solid",
   "metadata": {},
   "source": [
    "Set branching propensity of polymers"
   ]
  },
  {
   "cell_type": "code",
   "execution_count": null,
   "id": "announced-frederick",
   "metadata": {},
   "outputs": [],
   "source": [
    "branching_propensity = 0.0"
   ]
  },
  {
   "cell_type": "markdown",
   "id": "extra-danish",
   "metadata": {},
   "source": [
    "Set population metrics <br>\n",
    "['number average molecular weight', 'weight average molecular weight']"
   ]
  },
  {
   "cell_type": "code",
   "execution_count": null,
   "id": "stuck-worship",
   "metadata": {},
   "outputs": [],
   "source": [
    "population_metrics = None"
   ]
  },
  {
   "cell_type": "markdown",
   "id": "available-visitor",
   "metadata": {},
   "source": [
    "Additional setting for expectations of population"
   ]
  },
  {
   "cell_type": "code",
   "execution_count": null,
   "id": "moderate-flash",
   "metadata": {},
   "outputs": [],
   "source": [
    "expected_size = 6\n",
    "max_size = 100\n",
    "\n",
    "# size distribution scaling factor\n",
    "distribution_scaling = 0.1\n",
    "\n",
    "# size in MW\n",
    "size_in_MW = False"
   ]
  },
  {
   "cell_type": "markdown",
   "id": "opposed-suite",
   "metadata": {},
   "source": [
    "Metropolis Temperatures"
   ]
  },
  {
   "cell_type": "code",
   "execution_count": null,
   "id": "ongoing-terror",
   "metadata": {},
   "outputs": [],
   "source": [
    "Tmetro = 10\n",
    "Tmetro_out = 10"
   ]
  },
  {
   "cell_type": "markdown",
   "id": "sixth-financing",
   "metadata": {},
   "source": [
    "Simulation settings"
   ]
  },
  {
   "cell_type": "code",
   "execution_count": null,
   "id": "forty-quarter",
   "metadata": {},
   "outputs": [],
   "source": [
    "i_max = 1000\n",
    "i_max_out = 1000\n",
    "i_max_ring = 500\n",
    "\n",
    "n_population = 100\n",
    "\n",
    "seed_init = 1"
   ]
  },
  {
   "cell_type": "markdown",
   "id": "spanish-volleyball",
   "metadata": {},
   "source": [
    "Set metric weights<br>\n",
    "13 metrics are available<br>\n",
    "The first seven are linkage distributions: '4-O-5', 'alpha-O-4', 'beta-O-4', '5-5', 'beta-5', 'beta-beta', 'beta-1'<br>\n",
    "The next three are monomer distributions: 'H', 'G', 'S'<br>\n",
    "Then the branching coefficient <br>\n",
    "Two optional, representing 'number average molecular weight' and 'weight average molecular weight', are not included for this simulation"
   ]
  },
  {
   "cell_type": "code",
   "execution_count": null,
   "id": "casual-performance",
   "metadata": {},
   "outputs": [],
   "source": [
    "metrics_weights = [1, 1, 1, 1, 1, 1, 1, 1, 1, 1, 1]"
   ]
  },
  {
   "cell_type": "markdown",
   "id": "educated-bandwidth",
   "metadata": {},
   "source": [
    "Create and run the simulation"
   ]
  },
  {
   "cell_type": "code",
   "execution_count": null,
   "id": "otherwise-recall",
   "metadata": {},
   "outputs": [],
   "source": [
    "sim = opt.Simulation(linkage_distribution_input=linkage_distribution_input,\n",
    "                     monomer_distribution_input=monomer_distribution_input,\n",
    "                     expected_size=expected_size,\n",
    "                     max_size=max_size,\n",
    "                     distribution_scaling=distribution_scaling,\n",
    "                     Tmetro=Tmetro,\n",
    "                     Tmetro_out=Tmetro_out,\n",
    "                     seed_init=seed_init,\n",
    "                     library_name=library_name,\n",
    "                     trial_index=trial_index,\n",
    "                     n_population=n_population,\n",
    "                     i_max=i_max,\n",
    "                     i_max_out=i_max_out,\n",
    "                     i_max_ring=i_max_ring,\n",
    "                     additional_metrics=additional_metrics,\n",
    "                     population_metrics=population_metrics,\n",
    "                     size_in_MW=size_in_MW, \n",
    "                     branching_propensity=branching_propensity,\n",
    "                     metrics_weights = metrics_weights,\n",
    "                     verbose=verbose)\n",
    "\n",
    "sim.run()"
   ]
  },
  {
   "cell_type": "markdown",
   "id": "abroad-drove",
   "metadata": {},
   "source": [
    "Process population"
   ]
  },
  {
   "cell_type": "code",
   "execution_count": null,
   "id": "electric-bridge",
   "metadata": {},
   "outputs": [],
   "source": [
    "P_population = sim.P_population\n",
    "population = ch.Population(P_population)\n",
    "population.analyze()"
   ]
  }
 ],
 "metadata": {
  "kernelspec": {
   "display_name": "Python 3",
   "language": "python",
   "name": "python3"
  },
  "language_info": {
   "codemirror_mode": {
    "name": "ipython",
    "version": 3
   },
   "file_extension": ".py",
   "mimetype": "text/x-python",
   "name": "python",
   "nbconvert_exporter": "python",
   "pygments_lexer": "ipython3",
   "version": "3.7.7"
  }
 },
 "nbformat": 4,
 "nbformat_minor": 5
}
