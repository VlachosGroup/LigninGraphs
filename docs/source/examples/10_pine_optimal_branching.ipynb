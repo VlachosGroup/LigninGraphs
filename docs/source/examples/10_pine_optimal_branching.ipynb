{
 "cells": [
  {
   "cell_type": "markdown",
   "id": "worth-scanner",
   "metadata": {},
   "source": [
    "# 10_pine_optimal_branching\n",
    "Pine - Optimal Simulation Configuration with Branching\n",
    "<br/>Simulation pine_weights i_53"
   ]
  },
  {
   "cell_type": "markdown",
   "id": "trying-proxy",
   "metadata": {},
   "source": [
    "Import Code for Lignin Optimization"
   ]
  },
  {
   "cell_type": "code",
   "execution_count": 1,
   "id": "funny-princess",
   "metadata": {},
   "outputs": [],
   "source": [
    "# set ligning path (optional if installed via pip)\n",
    "import sys, os\n",
    "project_path = os.path.abspath(os.path.join(os.getcwd(), '..\\..\\..'))\n",
    "sys.path.insert(0, project_path)\n",
    "\n",
    "import ligning.optimization as opt\n",
    "import ligning.characterization as ch\n",
    "import ligning.utils as ut"
   ]
  },
  {
   "cell_type": "markdown",
   "id": "regulation-colleague",
   "metadata": {},
   "source": [
    "Set the destination of simulation outputs"
   ]
  },
  {
   "cell_type": "code",
   "execution_count": 2,
   "id": "central-graduation",
   "metadata": {},
   "outputs": [],
   "source": [
    "library_name = 'pine_branch'\n",
    "trial_index=None"
   ]
  },
  {
   "cell_type": "markdown",
   "id": "informative-method",
   "metadata": {},
   "source": [
    "Set distribution of linkages<br>\n",
    "['4-O-5', 'alpha-O-4', 'beta-O-4', '5-5', 'beta-5', 'beta-beta', 'beta-1']"
   ]
  },
  {
   "cell_type": "code",
   "execution_count": 3,
   "id": "nominated-certification",
   "metadata": {},
   "outputs": [],
   "source": [
    "linkage_distribution_input = [0, 0, 66, 0.05, 18, 16, 0] "
   ]
  },
  {
   "cell_type": "markdown",
   "id": "medium-output",
   "metadata": {},
   "source": [
    "Set monomer distributions<br>\n",
    "['H', 'G', 'S']"
   ]
  },
  {
   "cell_type": "code",
   "execution_count": 4,
   "id": "artistic-cutting",
   "metadata": {},
   "outputs": [],
   "source": [
    "monomer_distribution_input = [0, 100, 0]"
   ]
  },
  {
   "cell_type": "markdown",
   "id": "antique-proxy",
   "metadata": {},
   "source": [
    "Setting for additional metrics in simulation output"
   ]
  },
  {
   "cell_type": "code",
   "execution_count": 5,
   "id": "exposed-transport",
   "metadata": {},
   "outputs": [],
   "source": [
    "verbose = False\n",
    "additional_metrics = True"
   ]
  },
  {
   "cell_type": "markdown",
   "id": "atmospheric-auction",
   "metadata": {},
   "source": [
    "Set branching propensity of polymers"
   ]
  },
  {
   "cell_type": "code",
   "execution_count": 6,
   "id": "social-strategy",
   "metadata": {},
   "outputs": [],
   "source": [
    "branching_propensity = 0.1"
   ]
  },
  {
   "cell_type": "markdown",
   "id": "variable-price",
   "metadata": {},
   "source": [
    "Set population metrics <br>\n",
    "['number average molecular weight', 'weight average molecular weight']"
   ]
  },
  {
   "cell_type": "code",
   "execution_count": 7,
   "id": "proved-birmingham",
   "metadata": {},
   "outputs": [],
   "source": [
    "population_metrics = None"
   ]
  },
  {
   "cell_type": "markdown",
   "id": "neither-cycling",
   "metadata": {},
   "source": [
    "Additional setting for expectations of population"
   ]
  },
  {
   "cell_type": "code",
   "execution_count": 8,
   "id": "handmade-arthritis",
   "metadata": {},
   "outputs": [],
   "source": [
    "expected_size = 100\n",
    "max_size = 10000\n",
    "\n",
    "# size distribution scaling factor\n",
    "distribution_scaling = 0.1\n",
    "\n",
    "# size in MW\n",
    "size_in_MW = False"
   ]
  },
  {
   "cell_type": "markdown",
   "id": "previous-huntington",
   "metadata": {},
   "source": [
    "Metropolis Temperatures"
   ]
  },
  {
   "cell_type": "code",
   "execution_count": 9,
   "id": "religious-genius",
   "metadata": {},
   "outputs": [],
   "source": [
    "Tmetro = 10\n",
    "Tmetro_out = 10"
   ]
  },
  {
   "cell_type": "markdown",
   "id": "cellular-iceland",
   "metadata": {},
   "source": [
    "Simulation settings"
   ]
  },
  {
   "cell_type": "code",
   "execution_count": 10,
   "id": "center-thermal",
   "metadata": {},
   "outputs": [],
   "source": [
    "i_max = 10000\n",
    "i_max_out = 1000\n",
    "i_max_ring = 500\n",
    "\n",
    "n_population = 100\n",
    "\n",
    "seed_init = 1"
   ]
  },
  {
   "cell_type": "markdown",
   "id": "together-funeral",
   "metadata": {},
   "source": [
    "Set metric weights<br>\n",
    "13 metrics are available<br>\n",
    "The first seven are linkage distributions: '4-O-5', 'alpha-O-4', 'beta-O-4', '5-5', 'beta-5', 'beta-beta', 'beta-1'<br>\n",
    "The next three are monomer distributions: 'H', 'G', 'S'<br>\n",
    "Then the branching coefficient <br>\n",
    "Two optional, representing 'number average molecular weight' and 'weight average molecular weight', are not included for this simulation"
   ]
  },
  {
   "cell_type": "code",
   "execution_count": 11,
   "id": "unique-gardening",
   "metadata": {},
   "outputs": [],
   "source": [
    "metrics_weights = [1, 1, 1, 1, 1, 5, 1, 1, 1, 1, 1]"
   ]
  },
  {
   "cell_type": "markdown",
   "id": "approved-truth",
   "metadata": {},
   "source": [
    "Create and run the simulation"
   ]
  },
  {
   "cell_type": "code",
   "execution_count": 12,
   "id": "mounted-exhibition",
   "metadata": {},
   "outputs": [
    {
     "name": "stdout",
     "output_type": "stream",
     "text": [
      "Starting a new trial, No.0:\n",
      "\n"
     ]
    },
    {
     "name": "stderr",
     "output_type": "stream",
     "text": [
      "C:\\Users\\jake_\\Documents\\GitHub\\LigninGraphs\\ligning\\polymer.py:662: UserWarning: Input linkage type is not supported\n",
      "  warnings.warn(\"Input linkage type is not supported\")\n"
     ]
    },
    {
     "name": "stdout",
     "output_type": "stream",
     "text": [
      "Runtime for creating all polymers : 928.43 minutes \n",
      "\n"
     ]
    },
    {
     "ename": "ValueError",
     "evalue": "Edge specified by marker 6 already exists",
     "output_type": "error",
     "traceback": [
      "\u001b[1;31m---------------------------------------------------------------------------\u001b[0m",
      "\u001b[1;31mValueError\u001b[0m                                Traceback (most recent call last)",
      "\u001b[1;32m<ipython-input-12-582b186110cf>\u001b[0m in \u001b[0;36m<module>\u001b[1;34m\u001b[0m\n\u001b[0;32m     20\u001b[0m                      verbose=verbose)\n\u001b[0;32m     21\u001b[0m \u001b[1;33m\u001b[0m\u001b[0m\n\u001b[1;32m---> 22\u001b[1;33m \u001b[0msim\u001b[0m\u001b[1;33m.\u001b[0m\u001b[0mrun\u001b[0m\u001b[1;33m(\u001b[0m\u001b[1;33m)\u001b[0m\u001b[1;33m\u001b[0m\u001b[1;33m\u001b[0m\u001b[0m\n\u001b[0m",
      "\u001b[1;32m~\\Documents\\GitHub\\LigninGraphs\\ligning\\optimization.py\u001b[0m in \u001b[0;36mrun\u001b[1;34m(self)\u001b[0m\n\u001b[0;32m    709\u001b[0m \u001b[1;33m\u001b[0m\u001b[0m\n\u001b[0;32m    710\u001b[0m                 counts_w_ring_P, monomer_count_w_ring_P, MW_w_ring_P = ch.get_counts_polymer(P_i, \\\n\u001b[1;32m--> 711\u001b[1;33m                     additional=self.additional, cal_MW=self.cal_MW)\n\u001b[0m\u001b[0;32m    712\u001b[0m                 \u001b[1;31m# check if the molecule is valid\u001b[0m\u001b[1;33m\u001b[0m\u001b[1;33m\u001b[0m\u001b[1;33m\u001b[0m\u001b[0m\n\u001b[0;32m    713\u001b[0m                 \u001b[1;32mif\u001b[0m \u001b[0mMW_w_ring_P\u001b[0m \u001b[1;33m<\u001b[0m \u001b[1;36m100\u001b[0m\u001b[1;33m:\u001b[0m \u001b[1;32mcontinue\u001b[0m\u001b[1;33m\u001b[0m\u001b[1;33m\u001b[0m\u001b[0m\n",
      "\u001b[1;32m~\\Documents\\GitHub\\LigninGraphs\\ligning\\characterization.py\u001b[0m in \u001b[0;36mget_counts_polymer\u001b[1;34m(P, additional, cal_MW)\u001b[0m\n\u001b[0;32m     97\u001b[0m     \u001b[0mMW\u001b[0m \u001b[1;33m=\u001b[0m \u001b[1;32mNone\u001b[0m\u001b[1;33m\u001b[0m\u001b[1;33m\u001b[0m\u001b[0m\n\u001b[0;32m     98\u001b[0m     \u001b[0mch_polymer\u001b[0m \u001b[1;33m=\u001b[0m \u001b[0mCharacterize\u001b[0m\u001b[1;33m(\u001b[0m\u001b[0mP\u001b[0m\u001b[1;33m)\u001b[0m\u001b[1;33m\u001b[0m\u001b[1;33m\u001b[0m\u001b[0m\n\u001b[1;32m---> 99\u001b[1;33m     \u001b[0mch_polymer\u001b[0m\u001b[1;33m.\u001b[0m\u001b[0mget_counts\u001b[0m\u001b[1;33m(\u001b[0m\u001b[0mcal_MW\u001b[0m\u001b[1;33m=\u001b[0m\u001b[0mcal_MW\u001b[0m\u001b[1;33m,\u001b[0m \u001b[0madditional\u001b[0m\u001b[1;33m=\u001b[0m\u001b[0madditional\u001b[0m\u001b[1;33m)\u001b[0m\u001b[1;33m\u001b[0m\u001b[1;33m\u001b[0m\u001b[0m\n\u001b[0m\u001b[0;32m    100\u001b[0m     \u001b[0mcounts_P\u001b[0m \u001b[1;33m=\u001b[0m \u001b[0mch_polymer\u001b[0m\u001b[1;33m.\u001b[0m\u001b[0mcounts\u001b[0m\u001b[1;33m\u001b[0m\u001b[1;33m\u001b[0m\u001b[0m\n\u001b[0;32m    101\u001b[0m     \u001b[0mmonomer_count\u001b[0m \u001b[1;33m=\u001b[0m \u001b[0mch_polymer\u001b[0m\u001b[1;33m.\u001b[0m\u001b[0mmonomer_count\u001b[0m\u001b[1;33m\u001b[0m\u001b[1;33m\u001b[0m\u001b[0m\n",
      "\u001b[1;32m~\\Documents\\GitHub\\LigninGraphs\\ligning\\characterization.py\u001b[0m in \u001b[0;36mget_counts\u001b[1;34m(self, additional, cal_MW)\u001b[0m\n\u001b[0;32m    505\u001b[0m             \u001b[0mcounts\u001b[0m \u001b[0marray\u001b[0m\u001b[1;33m\u001b[0m\u001b[1;33m\u001b[0m\u001b[0m\n\u001b[0;32m    506\u001b[0m         \"\"\"        \n\u001b[1;32m--> 507\u001b[1;33m         \u001b[0mself\u001b[0m\u001b[1;33m.\u001b[0m\u001b[0mcal_all\u001b[0m\u001b[1;33m(\u001b[0m\u001b[0mcal_MW\u001b[0m\u001b[1;33m,\u001b[0m \u001b[0mprint_flag\u001b[0m \u001b[1;33m=\u001b[0m \u001b[1;32mFalse\u001b[0m\u001b[1;33m)\u001b[0m\u001b[1;33m\u001b[0m\u001b[1;33m\u001b[0m\u001b[0m\n\u001b[0m\u001b[0;32m    508\u001b[0m \u001b[1;33m\u001b[0m\u001b[0m\n\u001b[0;32m    509\u001b[0m         \u001b[0mmonomer_counts\u001b[0m \u001b[1;33m=\u001b[0m \u001b[0mlist\u001b[0m\u001b[1;33m(\u001b[0m\u001b[0mself\u001b[0m\u001b[1;33m.\u001b[0m\u001b[0mmtype_count\u001b[0m\u001b[1;33m.\u001b[0m\u001b[0mvalues\u001b[0m\u001b[1;33m(\u001b[0m\u001b[1;33m)\u001b[0m\u001b[1;33m)\u001b[0m\u001b[1;33m\u001b[0m\u001b[1;33m\u001b[0m\u001b[0m\n",
      "\u001b[1;32m~\\Documents\\GitHub\\LigninGraphs\\ligning\\characterization.py\u001b[0m in \u001b[0;36mcal_all\u001b[1;34m(self, cal_MW, print_flag)\u001b[0m\n\u001b[0;32m    446\u001b[0m         \u001b[1;31m# Calculate the molecular weight\u001b[0m\u001b[1;33m\u001b[0m\u001b[1;33m\u001b[0m\u001b[1;33m\u001b[0m\u001b[0m\n\u001b[0;32m    447\u001b[0m         \u001b[1;32mif\u001b[0m \u001b[0mcal_MW\u001b[0m\u001b[1;33m:\u001b[0m\u001b[1;33m\u001b[0m\u001b[1;33m\u001b[0m\u001b[0m\n\u001b[1;32m--> 448\u001b[1;33m             \u001b[0mself\u001b[0m\u001b[1;33m.\u001b[0m\u001b[0mcal_MW\u001b[0m\u001b[1;33m(\u001b[0m\u001b[1;33m)\u001b[0m\u001b[1;33m\u001b[0m\u001b[1;33m\u001b[0m\u001b[0m\n\u001b[0m\u001b[0;32m    449\u001b[0m \u001b[1;33m\u001b[0m\u001b[0m\n\u001b[0;32m    450\u001b[0m         \u001b[1;31m# Print the output as a dictionary\u001b[0m\u001b[1;33m\u001b[0m\u001b[1;33m\u001b[0m\u001b[1;33m\u001b[0m\u001b[0m\n",
      "\u001b[1;32m~\\Documents\\GitHub\\LigninGraphs\\ligning\\characterization.py\u001b[0m in \u001b[0;36mcal_MW\u001b[1;34m(self)\u001b[0m\n\u001b[0;32m    375\u001b[0m \u001b[1;33m\u001b[0m\u001b[0m\n\u001b[0;32m    376\u001b[0m     \u001b[1;32mdef\u001b[0m \u001b[0mcal_MW\u001b[0m\u001b[1;33m(\u001b[0m\u001b[0mself\u001b[0m\u001b[1;33m)\u001b[0m \u001b[1;33m->\u001b[0m \u001b[0mfloat\u001b[0m\u001b[1;33m:\u001b[0m\u001b[1;33m\u001b[0m\u001b[1;33m\u001b[0m\u001b[0m\n\u001b[1;32m--> 377\u001b[1;33m         \u001b[1;32mreturn\u001b[0m \u001b[0msuper\u001b[0m\u001b[1;33m(\u001b[0m\u001b[1;33m)\u001b[0m\u001b[1;33m.\u001b[0m\u001b[0mcal_MW\u001b[0m\u001b[1;33m(\u001b[0m\u001b[1;33m)\u001b[0m\u001b[1;33m\u001b[0m\u001b[1;33m\u001b[0m\u001b[0m\n\u001b[0m\u001b[0;32m    378\u001b[0m \u001b[1;33m\u001b[0m\u001b[0m\n\u001b[0;32m    379\u001b[0m     \u001b[1;32mdef\u001b[0m \u001b[0mcount_connections\u001b[0m\u001b[1;33m(\u001b[0m\u001b[0mself\u001b[0m\u001b[1;33m)\u001b[0m \u001b[1;33m->\u001b[0m \u001b[0mdict\u001b[0m\u001b[1;33m:\u001b[0m\u001b[1;33m\u001b[0m\u001b[1;33m\u001b[0m\u001b[0m\n",
      "\u001b[1;32m~\\Documents\\GitHub\\LigninGraphs\\ligning\\characterization.py\u001b[0m in \u001b[0;36mcal_MW\u001b[1;34m(self)\u001b[0m\n\u001b[0;32m    238\u001b[0m         \u001b[1;31m#self.Mol = MolFromSmiles(self.smiles)\u001b[0m\u001b[1;33m\u001b[0m\u001b[1;33m\u001b[0m\u001b[1;33m\u001b[0m\u001b[0m\n\u001b[0;32m    239\u001b[0m         \u001b[1;31m#self.MW = ExactMolWt(self.Mol)\u001b[0m\u001b[1;33m\u001b[0m\u001b[1;33m\u001b[0m\u001b[1;33m\u001b[0m\u001b[0m\n\u001b[1;32m--> 240\u001b[1;33m         \u001b[0mself\u001b[0m\u001b[1;33m.\u001b[0m\u001b[0mformula\u001b[0m \u001b[1;33m=\u001b[0m \u001b[0msmiles_to_formula\u001b[0m\u001b[1;33m(\u001b[0m\u001b[0mself\u001b[0m\u001b[1;33m.\u001b[0m\u001b[0msmiles\u001b[0m\u001b[1;33m)\u001b[0m\u001b[1;33m\u001b[0m\u001b[1;33m\u001b[0m\u001b[0m\n\u001b[0m\u001b[0;32m    241\u001b[0m         \u001b[0mself\u001b[0m\u001b[1;33m.\u001b[0m\u001b[0mMW\u001b[0m \u001b[1;33m=\u001b[0m \u001b[0mformula_to_MW\u001b[0m\u001b[1;33m(\u001b[0m\u001b[0mself\u001b[0m\u001b[1;33m.\u001b[0m\u001b[0mformula\u001b[0m\u001b[1;33m)\u001b[0m\u001b[1;33m\u001b[0m\u001b[1;33m\u001b[0m\u001b[0m\n\u001b[0;32m    242\u001b[0m \u001b[1;33m\u001b[0m\u001b[0m\n",
      "\u001b[1;32m~\\Documents\\GitHub\\LigninGraphs\\ligning\\utils.py\u001b[0m in \u001b[0;36msmiles_to_formula\u001b[1;34m(smiles)\u001b[0m\n\u001b[0;32m    181\u001b[0m     \"\"\"    \n\u001b[0;32m    182\u001b[0m     \u001b[1;31m# Fill the graph with H atom nodes\u001b[0m\u001b[1;33m\u001b[0m\u001b[1;33m\u001b[0m\u001b[1;33m\u001b[0m\u001b[0m\n\u001b[1;32m--> 183\u001b[1;33m     \u001b[0mG_with_H\u001b[0m \u001b[1;33m=\u001b[0m \u001b[0mread_smiles\u001b[0m\u001b[1;33m(\u001b[0m\u001b[0msmiles\u001b[0m\u001b[1;33m,\u001b[0m \u001b[0mexplicit_hydrogen\u001b[0m\u001b[1;33m=\u001b[0m\u001b[1;32mTrue\u001b[0m\u001b[1;33m)\u001b[0m\u001b[1;33m\u001b[0m\u001b[1;33m\u001b[0m\u001b[0m\n\u001b[0m\u001b[0;32m    184\u001b[0m     \u001b[1;31m# Count the number of elements\u001b[0m\u001b[1;33m\u001b[0m\u001b[1;33m\u001b[0m\u001b[1;33m\u001b[0m\u001b[0m\n\u001b[0;32m    185\u001b[0m     \u001b[0mcount_CHO\u001b[0m \u001b[1;33m=\u001b[0m \u001b[0mCounter\u001b[0m\u001b[1;33m(\u001b[0m\u001b[0mdict\u001b[0m\u001b[1;33m(\u001b[0m\u001b[0mG_with_H\u001b[0m\u001b[1;33m.\u001b[0m\u001b[0mnodes\u001b[0m\u001b[1;33m(\u001b[0m\u001b[0mdata\u001b[0m\u001b[1;33m=\u001b[0m\u001b[1;34m'element'\u001b[0m\u001b[1;33m)\u001b[0m\u001b[1;33m)\u001b[0m\u001b[1;33m.\u001b[0m\u001b[0mvalues\u001b[0m\u001b[1;33m(\u001b[0m\u001b[1;33m)\u001b[0m\u001b[1;33m)\u001b[0m\u001b[1;33m\u001b[0m\u001b[1;33m\u001b[0m\u001b[0m\n",
      "\u001b[1;32m~\\anaconda3\\envs\\env4\\lib\\site-packages\\pysmiles\\read_smiles.py\u001b[0m in \u001b[0;36mread_smiles\u001b[1;34m(smiles, explicit_hydrogen, zero_order_bonds, reinterpret_aromatic)\u001b[0m\n\u001b[0;32m    162\u001b[0m                 \u001b[1;32mif\u001b[0m \u001b[0mmol\u001b[0m\u001b[1;33m.\u001b[0m\u001b[0mhas_edge\u001b[0m\u001b[1;33m(\u001b[0m\u001b[0midx\u001b[0m\u001b[1;33m-\u001b[0m\u001b[1;36m1\u001b[0m\u001b[1;33m,\u001b[0m \u001b[0mjdx\u001b[0m\u001b[1;33m)\u001b[0m\u001b[1;33m:\u001b[0m\u001b[1;33m\u001b[0m\u001b[1;33m\u001b[0m\u001b[0m\n\u001b[0;32m    163\u001b[0m                     raise ValueError('Edge specified by marker {} already '\n\u001b[1;32m--> 164\u001b[1;33m                                      'exists'.format(token))\n\u001b[0m\u001b[0;32m    165\u001b[0m                 \u001b[1;32mif\u001b[0m \u001b[0midx\u001b[0m\u001b[1;33m-\u001b[0m\u001b[1;36m1\u001b[0m \u001b[1;33m==\u001b[0m \u001b[0mjdx\u001b[0m\u001b[1;33m:\u001b[0m\u001b[1;33m\u001b[0m\u001b[1;33m\u001b[0m\u001b[0m\n\u001b[0;32m    166\u001b[0m                     raise ValueError('Marker {} specifies a bond between an '\n",
      "\u001b[1;31mValueError\u001b[0m: Edge specified by marker 6 already exists"
     ]
    }
   ],
   "source": [
    "sim = opt.Simulation(linkage_distribution_input=linkage_distribution_input,\n",
    "                     monomer_distribution_input=monomer_distribution_input,\n",
    "                     expected_size=expected_size,\n",
    "                     max_size=max_size,\n",
    "                     distribution_scaling=distribution_scaling,\n",
    "                     Tmetro=Tmetro,\n",
    "                     Tmetro_out=Tmetro_out,\n",
    "                     seed_init=seed_init,\n",
    "                     library_name=library_name,\n",
    "                     trial_index=trial_index,\n",
    "                     n_population=n_population,\n",
    "                     i_max=i_max,\n",
    "                     i_max_out=i_max_out,\n",
    "                     i_max_ring=i_max_ring,\n",
    "                     additional_metrics=additional_metrics,\n",
    "                     population_metrics=population_metrics,\n",
    "                     size_in_MW=size_in_MW, \n",
    "                     branching_propensity=branching_propensity,\n",
    "                     metrics_weights = metrics_weights,\n",
    "                     verbose=verbose)\n",
    "\n",
    "sim.run()"
   ]
  },
  {
   "cell_type": "markdown",
   "id": "ambient-fiction",
   "metadata": {},
   "source": [
    "Process population"
   ]
  },
  {
   "cell_type": "code",
   "execution_count": null,
   "id": "loaded-messenger",
   "metadata": {},
   "outputs": [],
   "source": [
    "P_population = sim.P_population\n",
    "population = ch.Population(P_population)\n",
    "population.analyze()"
   ]
  }
 ],
 "metadata": {
  "kernelspec": {
   "display_name": "Python 3",
   "language": "python",
   "name": "python3"
  },
  "language_info": {
   "codemirror_mode": {
    "name": "ipython",
    "version": 3
   },
   "file_extension": ".py",
   "mimetype": "text/x-python",
   "name": "python",
   "nbconvert_exporter": "python",
   "pygments_lexer": "ipython3",
   "version": "3.7.7"
  }
 },
 "nbformat": 4,
 "nbformat_minor": 5
}
