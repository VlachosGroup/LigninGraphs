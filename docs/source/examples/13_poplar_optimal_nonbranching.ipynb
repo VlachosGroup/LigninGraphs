{
 "cells": [
  {
   "cell_type": "markdown",
   "id": "registered-professional",
   "metadata": {},
   "source": [
    "# Poplar - Optimal Simulation Configuration without Branching"
   ]
  },
  {
   "cell_type": "markdown",
   "id": "focused-ethics",
   "metadata": {},
   "source": [
    "## Poplar - i_9"
   ]
  },
  {
   "cell_type": "markdown",
   "id": "formal-minority",
   "metadata": {},
   "source": [
    "Import Code for Lignin Optimization"
   ]
  },
  {
   "cell_type": "code",
   "execution_count": 1,
   "id": "reduced-postcard",
   "metadata": {},
   "outputs": [
    {
     "name": "stdout",
     "output_type": "stream",
     "text": [
      "c:\\Users\\yifan\\Documents\\GitHub\\LigninGraphs\n"
     ]
    },
    {
     "name": "stderr",
     "output_type": "stream",
     "text": [
      "RDKit WARNING: [18:16:50] Enabling RDKit 2019.09.3 jupyter extensions\n"
     ]
    }
   ],
   "source": [
    "# set ligning path (optional if installed via pip)\n",
    "import sys, os\n",
    "project_path = os.path.abspath(os.path.join(os.getcwd(), '..\\..\\..'))\n",
    "print(project_path)\n",
    "sys.path.insert(0, project_path)\n",
    "\n",
    "import ligning.optimization as opt"
   ]
  },
  {
   "cell_type": "markdown",
   "id": "intended-teens",
   "metadata": {},
   "source": [
    "Set the destination of simulation outputs"
   ]
  },
  {
   "cell_type": "code",
   "execution_count": 2,
   "id": "wicked-partner",
   "metadata": {},
   "outputs": [],
   "source": [
    "library_name = 'poplar_weights'"
   ]
  },
  {
   "cell_type": "markdown",
   "id": "bored-contents",
   "metadata": {},
   "source": [
    "Set distribution of linkages<br>\n",
    "['4-O-5', 'alpha-O-4', 'beta-O-4', '5-5', 'beta-5', 'beta-beta', 'beta-1']"
   ]
  },
  {
   "cell_type": "code",
   "execution_count": 3,
   "id": "gothic-direction",
   "metadata": {},
   "outputs": [],
   "source": [
    "linkage_distribution_input = [0, 0, 78, 0.1, 7, 15, 0] "
   ]
  },
  {
   "cell_type": "markdown",
   "id": "harmful-token",
   "metadata": {},
   "source": [
    "Set monomer distributions<br>\n",
    "['H', 'G', 'S']"
   ]
  },
  {
   "cell_type": "code",
   "execution_count": 4,
   "id": "uniform-mobile",
   "metadata": {},
   "outputs": [],
   "source": [
    "monomer_distribution_input = [0, 37, 63]"
   ]
  },
  {
   "cell_type": "markdown",
   "id": "military-growth",
   "metadata": {},
   "source": [
    "Setting for additional metrics in simulation output"
   ]
  },
  {
   "cell_type": "code",
   "execution_count": 5,
   "id": "split-daughter",
   "metadata": {},
   "outputs": [],
   "source": [
    "verbose = False\n",
    "additional_metrics = True"
   ]
  },
  {
   "cell_type": "markdown",
   "id": "optical-disclosure",
   "metadata": {},
   "source": [
    "Set branching propensity of polymers"
   ]
  },
  {
   "cell_type": "code",
   "execution_count": 6,
   "id": "surrounded-swedish",
   "metadata": {},
   "outputs": [],
   "source": [
    "branching_propensity = 0"
   ]
  },
  {
   "cell_type": "markdown",
   "id": "residential-works",
   "metadata": {},
   "source": [
    "Set population metrics <br>\n",
    "['number average molecular weight', 'weight average molecular weight']"
   ]
  },
  {
   "cell_type": "code",
   "execution_count": 7,
   "id": "refined-programming",
   "metadata": {},
   "outputs": [],
   "source": [
    "population_metrics = None"
   ]
  },
  {
   "cell_type": "markdown",
   "id": "magnetic-fault",
   "metadata": {},
   "source": [
    "Additional setting for expectations of population"
   ]
  },
  {
   "cell_type": "code",
   "execution_count": 8,
   "id": "consecutive-apparatus",
   "metadata": {},
   "outputs": [],
   "source": [
    "expected_size = 7\n",
    "max_size = 100\n",
    "\n",
    "# size distribution scaling factor\n",
    "distribution_scaling = 0.1\n",
    "\n",
    "# size in MW\n",
    "size_in_MW = False"
   ]
  },
  {
   "cell_type": "markdown",
   "id": "dangerous-logan",
   "metadata": {},
   "source": [
    "Metropolis Temperatures"
   ]
  },
  {
   "cell_type": "code",
   "execution_count": 9,
   "id": "subsequent-snake",
   "metadata": {},
   "outputs": [],
   "source": [
    "Tmetro = 10\n",
    "Tmetro_out = 10"
   ]
  },
  {
   "cell_type": "markdown",
   "id": "treated-maximum",
   "metadata": {},
   "source": [
    "Simulation settings"
   ]
  },
  {
   "cell_type": "code",
   "execution_count": 10,
   "id": "exclusive-caribbean",
   "metadata": {},
   "outputs": [],
   "source": [
    "i_max = 1000\n",
    "i_max_out = 1000\n",
    "i_max_ring = 500\n",
    "\n",
    "n_population = 100\n",
    "\n",
    "seed_init = 1"
   ]
  },
  {
   "cell_type": "markdown",
   "id": "opposite-princess",
   "metadata": {},
   "source": [
    "Simulation produced the best results without providing metric weights"
   ]
  },
  {
   "cell_type": "markdown",
   "id": "curious-radio",
   "metadata": {},
   "source": [
    "Create and run the simulation"
   ]
  },
  {
   "cell_type": "code",
   "execution_count": 11,
   "id": "national-ridge",
   "metadata": {},
   "outputs": [
    {
     "ename": "FileNotFoundError",
     "evalue": "[WinError 3] The system cannot find the path specified: 'C:\\\\Users\\\\jake_\\\\Documents\\\\GitHub\\\\LigninGraphs\\\\docs\\\\source\\\\examples\\\\results\\\\poplar_weights'",
     "output_type": "error",
     "traceback": [
      "\u001b[1;31m---------------------------------------------------------------------------\u001b[0m",
      "\u001b[1;31mFileNotFoundError\u001b[0m                         Traceback (most recent call last)",
      "\u001b[1;32m<ipython-input-11-e3b569db12ca>\u001b[0m in \u001b[0;36m<module>\u001b[1;34m\u001b[0m\n\u001b[0;32m     16\u001b[0m                      \u001b[0msize_in_MW\u001b[0m\u001b[1;33m=\u001b[0m\u001b[0msize_in_MW\u001b[0m\u001b[1;33m,\u001b[0m\u001b[1;33m\u001b[0m\u001b[1;33m\u001b[0m\u001b[0m\n\u001b[0;32m     17\u001b[0m                      \u001b[0mbranching_propensity\u001b[0m\u001b[1;33m=\u001b[0m\u001b[0mbranching_propensity\u001b[0m\u001b[1;33m,\u001b[0m\u001b[1;33m\u001b[0m\u001b[1;33m\u001b[0m\u001b[0m\n\u001b[1;32m---> 18\u001b[1;33m                      verbose=verbose)\n\u001b[0m\u001b[0;32m     19\u001b[0m \u001b[1;33m\u001b[0m\u001b[0m\n\u001b[0;32m     20\u001b[0m \u001b[0msim\u001b[0m\u001b[1;33m.\u001b[0m\u001b[0mrun\u001b[0m\u001b[1;33m(\u001b[0m\u001b[1;33m)\u001b[0m\u001b[1;33m\u001b[0m\u001b[1;33m\u001b[0m\u001b[0m\n",
      "\u001b[1;32m~\\Documents\\GitHub\\LigninGraphs\\ligning\\optimization.py\u001b[0m in \u001b[0;36m__init__\u001b[1;34m(self, linkage_distribution_input, monomer_distribution_input, expected_size, max_size, distribution_scaling, Tmetro, Tmetro_out, seed_init, library_name, trial_index, n_population, i_max, i_max_out, i_max_ring, additional_metrics, population_metrics, size_in_MW, branching_propensity, metrics_weights, verbose, show_plots, save_path)\u001b[0m\n\u001b[0;32m    480\u001b[0m         \u001b[1;31m# Set up io path\u001b[0m\u001b[1;33m\u001b[0m\u001b[1;33m\u001b[0m\u001b[1;33m\u001b[0m\u001b[0m\n\u001b[0;32m    481\u001b[0m         \u001b[0mResultsPathParent\u001b[0m \u001b[1;33m=\u001b[0m \u001b[0mos\u001b[0m\u001b[1;33m.\u001b[0m\u001b[0mpath\u001b[0m\u001b[1;33m.\u001b[0m\u001b[0mjoin\u001b[0m\u001b[1;33m(\u001b[0m\u001b[0msave_path\u001b[0m\u001b[1;33m,\u001b[0m \u001b[1;34m'results'\u001b[0m\u001b[1;33m,\u001b[0m \u001b[0mlibrary_name\u001b[0m\u001b[1;33m)\u001b[0m\u001b[1;33m\u001b[0m\u001b[1;33m\u001b[0m\u001b[0m\n\u001b[1;32m--> 482\u001b[1;33m         \u001b[1;32mif\u001b[0m \u001b[1;32mnot\u001b[0m \u001b[0mos\u001b[0m\u001b[1;33m.\u001b[0m\u001b[0mpath\u001b[0m\u001b[1;33m.\u001b[0m\u001b[0mexists\u001b[0m\u001b[1;33m(\u001b[0m\u001b[0mResultsPathParent\u001b[0m\u001b[1;33m)\u001b[0m\u001b[1;33m:\u001b[0m \u001b[0mos\u001b[0m\u001b[1;33m.\u001b[0m\u001b[0mmkdir\u001b[0m\u001b[1;33m(\u001b[0m\u001b[0mResultsPathParent\u001b[0m\u001b[1;33m)\u001b[0m\u001b[1;33m\u001b[0m\u001b[1;33m\u001b[0m\u001b[0m\n\u001b[0m\u001b[0;32m    483\u001b[0m \u001b[1;33m\u001b[0m\u001b[0m\n\u001b[0;32m    484\u001b[0m         \u001b[1;31m# Determine previous trials in library\u001b[0m\u001b[1;33m\u001b[0m\u001b[1;33m\u001b[0m\u001b[1;33m\u001b[0m\u001b[0m\n",
      "\u001b[1;31mFileNotFoundError\u001b[0m: [WinError 3] The system cannot find the path specified: 'C:\\\\Users\\\\jake_\\\\Documents\\\\GitHub\\\\LigninGraphs\\\\docs\\\\source\\\\examples\\\\results\\\\poplar_weights'"
     ]
    }
   ],
   "source": [
    "sim = opt.Simulation(linkage_distribution_input=linkage_distribution_input,\n",
    "                     monomer_distribution_input=monomer_distribution_input,\n",
    "                     expected_size=expected_size,\n",
    "                     max_size=max_size,\n",
    "                     distribution_scaling=distribution_scaling,\n",
    "                     Tmetro=Tmetro,\n",
    "                     Tmetro_out=Tmetro_out,\n",
    "                     seed_init=seed_init,\n",
    "                     library_name=library_name,\n",
    "                     n_population=n_population,\n",
    "                     i_max=i_max,\n",
    "                     i_max_out=i_max_out,\n",
    "                     i_max_ring=i_max_ring,\n",
    "                     additional_metrics=additional_metrics,\n",
    "                     population_metrics=population_metrics,\n",
    "                     size_in_MW=size_in_MW, \n",
    "                     branching_propensity=branching_propensity,\n",
    "                     verbose=verbose)\n",
    "\n",
    "sim.run()"
   ]
  }
 ],
 "metadata": {
  "kernelspec": {
   "display_name": "Python 3",
   "language": "python",
   "name": "python3"
  },
  "language_info": {
   "codemirror_mode": {
    "name": "ipython",
    "version": 3
   },
   "file_extension": ".py",
   "mimetype": "text/x-python",
   "name": "python",
   "nbconvert_exporter": "python",
   "pygments_lexer": "ipython3",
   "version": "3.7.6"
  }
 },
 "nbformat": 4,
 "nbformat_minor": 5
}
