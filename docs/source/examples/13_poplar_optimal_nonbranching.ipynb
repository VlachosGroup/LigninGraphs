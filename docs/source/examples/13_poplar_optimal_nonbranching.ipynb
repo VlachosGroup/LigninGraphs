{
 "cells": [
  {
   "cell_type": "markdown",
   "id": "registered-professional",
   "metadata": {},
   "source": [
    "# 13_poplar_optimal_nonbranching\n",
    "Poplar - Optimal Simulation Configuration without Branching"
   ]
  },
  {
   "cell_type": "markdown",
   "id": "focused-ethics",
   "metadata": {},
   "source": [
    "## Poplar - i_9"
   ]
  },
  {
   "cell_type": "markdown",
   "id": "formal-minority",
   "metadata": {},
   "source": [
    "Import Code for Lignin Optimization"
   ]
  },
  {
   "cell_type": "code",
   "execution_count": 1,
   "id": "reduced-postcard",
   "metadata": {},
   "outputs": [],
   "source": [
    "# set ligning path (optional if installed via pip)\n",
    "import sys, os\n",
    "project_path = os.path.abspath(os.path.join(os.getcwd(), '..\\..\\..'))\n",
    "sys.path.insert(0, project_path)\n",
    "\n",
    "import ligning.optimization as opt"
   ]
  },
  {
   "cell_type": "markdown",
   "id": "intended-teens",
   "metadata": {},
   "source": [
    "Set the destination of simulation outputs"
   ]
  },
  {
   "cell_type": "code",
   "execution_count": 2,
   "id": "wicked-partner",
   "metadata": {},
   "outputs": [],
   "source": [
    "library_name = 'poplar_nobranch'"
   ]
  },
  {
   "cell_type": "markdown",
   "id": "bored-contents",
   "metadata": {},
   "source": [
    "Set distribution of linkages<br>\n",
    "['4-O-5', 'alpha-O-4', 'beta-O-4', '5-5', 'beta-5', 'beta-beta', 'beta-1']"
   ]
  },
  {
   "cell_type": "code",
   "execution_count": 3,
   "id": "gothic-direction",
   "metadata": {},
   "outputs": [],
   "source": [
    "linkage_distribution_input = [0, 0, 78, 0.1, 7, 15, 0] "
   ]
  },
  {
   "cell_type": "markdown",
   "id": "harmful-token",
   "metadata": {},
   "source": [
    "Set monomer distributions<br>\n",
    "['H', 'G', 'S']"
   ]
  },
  {
   "cell_type": "code",
   "execution_count": 4,
   "id": "uniform-mobile",
   "metadata": {},
   "outputs": [],
   "source": [
    "monomer_distribution_input = [0, 37, 63]"
   ]
  },
  {
   "cell_type": "markdown",
   "id": "military-growth",
   "metadata": {},
   "source": [
    "Setting for additional metrics in simulation output"
   ]
  },
  {
   "cell_type": "code",
   "execution_count": 5,
   "id": "split-daughter",
   "metadata": {},
   "outputs": [],
   "source": [
    "verbose = False\n",
    "additional_metrics = True"
   ]
  },
  {
   "cell_type": "markdown",
   "id": "optical-disclosure",
   "metadata": {},
   "source": [
    "Set branching propensity of polymers"
   ]
  },
  {
   "cell_type": "code",
   "execution_count": 6,
   "id": "surrounded-swedish",
   "metadata": {},
   "outputs": [],
   "source": [
    "branching_propensity = 0"
   ]
  },
  {
   "cell_type": "markdown",
   "id": "residential-works",
   "metadata": {},
   "source": [
    "Set population metrics <br>\n",
    "['number average molecular weight', 'weight average molecular weight']"
   ]
  },
  {
   "cell_type": "code",
   "execution_count": 7,
   "id": "refined-programming",
   "metadata": {},
   "outputs": [],
   "source": [
    "population_metrics = None"
   ]
  },
  {
   "cell_type": "markdown",
   "id": "magnetic-fault",
   "metadata": {},
   "source": [
    "Additional setting for expectations of population"
   ]
  },
  {
   "cell_type": "code",
   "execution_count": 8,
   "id": "consecutive-apparatus",
   "metadata": {},
   "outputs": [],
   "source": [
    "expected_size = 7\n",
    "max_size = 100\n",
    "\n",
    "# size distribution scaling factor\n",
    "distribution_scaling = 0.1\n",
    "\n",
    "# size in MW\n",
    "size_in_MW = False"
   ]
  },
  {
   "cell_type": "markdown",
   "id": "dangerous-logan",
   "metadata": {},
   "source": [
    "Metropolis Temperatures"
   ]
  },
  {
   "cell_type": "code",
   "execution_count": 9,
   "id": "subsequent-snake",
   "metadata": {},
   "outputs": [],
   "source": [
    "Tmetro = 10\n",
    "Tmetro_out = 10"
   ]
  },
  {
   "cell_type": "markdown",
   "id": "treated-maximum",
   "metadata": {},
   "source": [
    "Simulation settings"
   ]
  },
  {
   "cell_type": "code",
   "execution_count": 10,
   "id": "exclusive-caribbean",
   "metadata": {},
   "outputs": [],
   "source": [
    "i_max = 1000\n",
    "i_max_out = 1000\n",
    "i_max_ring = 500\n",
    "\n",
    "n_population = 100\n",
    "\n",
    "seed_init = 1"
   ]
  },
  {
   "cell_type": "markdown",
   "id": "opposite-princess",
   "metadata": {},
   "source": [
    "Simulation produced the best results without providing metric weights"
   ]
  },
  {
   "cell_type": "markdown",
   "id": "curious-radio",
   "metadata": {},
   "source": [
    "Create and run the simulation"
   ]
  },
  {
   "cell_type": "code",
   "execution_count": 11,
   "id": "national-ridge",
   "metadata": {},
   "outputs": [
    {
     "name": "stdout",
     "output_type": "stream",
     "text": [
      "Starting a new trial, No.0:\n",
      "\n"
     ]
    },
    {
     "name": "stderr",
     "output_type": "stream",
     "text": [
      "C:\\Users\\jake_\\Documents\\GitHub\\LigninGraphs\\ligning\\polymer.py:662: UserWarning: Input linkage type is not supported\n",
      "  warnings.warn(\"Input linkage type is not supported\")\n"
     ]
    },
    {
     "name": "stdout",
     "output_type": "stream",
     "text": [
      "Runtime for creating all polymers : 11.06 minutes \n",
      "\n"
     ]
    },
    {
     "ename": "FileNotFoundError",
     "evalue": "[Errno 2] No such file or directory: 'C:\\\\Users\\\\jake_\\\\Documents\\\\GitHub\\\\LigninGraphs\\\\docs\\\\source\\\\examples\\\\results\\\\poplar_nobranch\\\\i0\\\\poplar_nobranch_libray.csv'",
     "output_type": "error",
     "traceback": [
      "\u001b[1;31m---------------------------------------------------------------------------\u001b[0m",
      "\u001b[1;31mFileNotFoundError\u001b[0m                         Traceback (most recent call last)",
      "\u001b[1;32m<ipython-input-11-e3b569db12ca>\u001b[0m in \u001b[0;36m<module>\u001b[1;34m\u001b[0m\n\u001b[0;32m     18\u001b[0m                      verbose=verbose)\n\u001b[0;32m     19\u001b[0m \u001b[1;33m\u001b[0m\u001b[0m\n\u001b[1;32m---> 20\u001b[1;33m \u001b[0msim\u001b[0m\u001b[1;33m.\u001b[0m\u001b[0mrun\u001b[0m\u001b[1;33m(\u001b[0m\u001b[1;33m)\u001b[0m\u001b[1;33m\u001b[0m\u001b[1;33m\u001b[0m\u001b[0m\n\u001b[0m",
      "\u001b[1;32m~\\Documents\\GitHub\\LigninGraphs\\ligning\\optimization.py\u001b[0m in \u001b[0;36mrun\u001b[1;34m(self)\u001b[0m\n\u001b[0;32m    778\u001b[0m         \u001b[1;32melse\u001b[0m\u001b[1;33m:\u001b[0m\u001b[1;33m\u001b[0m\u001b[1;33m\u001b[0m\u001b[0m\n\u001b[0;32m    779\u001b[0m             \u001b[0mpopulation\u001b[0m \u001b[1;33m=\u001b[0m \u001b[0mch\u001b[0m\u001b[1;33m.\u001b[0m\u001b[0mPopulation\u001b[0m\u001b[1;33m(\u001b[0m\u001b[0mP_population\u001b[0m\u001b[1;33m,\u001b[0m \u001b[0mself\u001b[0m\u001b[1;33m.\u001b[0m\u001b[0mlibrary_name\u001b[0m\u001b[1;33m,\u001b[0m \u001b[0mTrialIndex\u001b[0m\u001b[1;33m=\u001b[0m\u001b[0mstr\u001b[0m\u001b[1;33m(\u001b[0m\u001b[0mself\u001b[0m\u001b[1;33m.\u001b[0m\u001b[0mtrial_index\u001b[0m\u001b[1;33m)\u001b[0m\u001b[1;33m)\u001b[0m\u001b[1;33m\u001b[0m\u001b[1;33m\u001b[0m\u001b[0m\n\u001b[1;32m--> 780\u001b[1;33m         \u001b[0mpopulation\u001b[0m\u001b[1;33m.\u001b[0m\u001b[0manalyze\u001b[0m\u001b[1;33m(\u001b[0m\u001b[1;33m)\u001b[0m\u001b[1;33m\u001b[0m\u001b[1;33m\u001b[0m\u001b[0m\n\u001b[0m\u001b[0;32m    781\u001b[0m \u001b[1;33m\u001b[0m\u001b[0m\n\u001b[0;32m    782\u001b[0m         \u001b[1;31m# the metrics average including branching coeff and MW\u001b[0m\u001b[1;33m\u001b[0m\u001b[1;33m\u001b[0m\u001b[1;33m\u001b[0m\u001b[0m\n",
      "\u001b[1;32m~\\Documents\\GitHub\\LigninGraphs\\ligning\\characterization.py\u001b[0m in \u001b[0;36manalyze\u001b[1;34m(self)\u001b[0m\n\u001b[0;32m    610\u001b[0m \u001b[1;33m\u001b[0m\u001b[0m\n\u001b[0;32m    611\u001b[0m             \u001b[1;31m# write to the data output file\u001b[0m\u001b[1;33m\u001b[0m\u001b[1;33m\u001b[0m\u001b[1;33m\u001b[0m\u001b[0m\n\u001b[1;32m--> 612\u001b[1;33m             \u001b[0mut\u001b[0m\u001b[1;33m.\u001b[0m\u001b[0mwrite_output_on_individual\u001b[0m\u001b[1;33m(\u001b[0m\u001b[0mrow_i\u001b[0m\u001b[1;33m,\u001b[0m \u001b[0mself\u001b[0m\u001b[1;33m.\u001b[0m\u001b[0mcolumn_names\u001b[0m\u001b[1;33m,\u001b[0m \u001b[0mself\u001b[0m\u001b[1;33m.\u001b[0m\u001b[0mOutputPathLibrary\u001b[0m\u001b[1;33m)\u001b[0m\u001b[1;33m\u001b[0m\u001b[1;33m\u001b[0m\u001b[0m\n\u001b[0m\u001b[0;32m    613\u001b[0m \u001b[1;33m\u001b[0m\u001b[0m\n\u001b[0;32m    614\u001b[0m         \u001b[1;31m# Calculate the population stats\u001b[0m\u001b[1;33m\u001b[0m\u001b[1;33m\u001b[0m\u001b[1;33m\u001b[0m\u001b[0m\n",
      "\u001b[1;32m~\\Documents\\GitHub\\LigninGraphs\\ligning\\utils.py\u001b[0m in \u001b[0;36mwrite_output_on_individual\u001b[1;34m(row_data, column_names, OutputPath)\u001b[0m\n\u001b[0;32m    748\u001b[0m     \u001b[0mdf\u001b[0m \u001b[1;33m=\u001b[0m \u001b[0mpd\u001b[0m\u001b[1;33m.\u001b[0m\u001b[0mDataFrame\u001b[0m\u001b[1;33m(\u001b[0m\u001b[0mrow_dict\u001b[0m\u001b[1;33m)\u001b[0m\u001b[1;33m\u001b[0m\u001b[1;33m\u001b[0m\u001b[0m\n\u001b[0;32m    749\u001b[0m \u001b[1;33m\u001b[0m\u001b[0m\n\u001b[1;32m--> 750\u001b[1;33m     \u001b[1;32mwith\u001b[0m \u001b[0mopen\u001b[0m\u001b[1;33m(\u001b[0m\u001b[0mOutputPath\u001b[0m\u001b[1;33m,\u001b[0m \u001b[1;34m'a'\u001b[0m\u001b[1;33m)\u001b[0m \u001b[1;32mas\u001b[0m \u001b[0mf\u001b[0m\u001b[1;33m:\u001b[0m\u001b[1;33m\u001b[0m\u001b[1;33m\u001b[0m\u001b[0m\n\u001b[0m\u001b[0;32m    751\u001b[0m         \u001b[0mdf\u001b[0m\u001b[1;33m.\u001b[0m\u001b[0mto_csv\u001b[0m\u001b[1;33m(\u001b[0m\u001b[0mf\u001b[0m\u001b[1;33m,\u001b[0m \u001b[0mheader\u001b[0m\u001b[1;33m=\u001b[0m\u001b[0mf\u001b[0m\u001b[1;33m.\u001b[0m\u001b[0mtell\u001b[0m\u001b[1;33m(\u001b[0m\u001b[1;33m)\u001b[0m\u001b[1;33m==\u001b[0m\u001b[1;36m0\u001b[0m\u001b[1;33m)\u001b[0m \u001b[1;31m#, index_label=False)\u001b[0m\u001b[1;33m\u001b[0m\u001b[1;33m\u001b[0m\u001b[0m\n\u001b[0;32m    752\u001b[0m \u001b[1;33m\u001b[0m\u001b[0m\n",
      "\u001b[1;31mFileNotFoundError\u001b[0m: [Errno 2] No such file or directory: 'C:\\\\Users\\\\jake_\\\\Documents\\\\GitHub\\\\LigninGraphs\\\\docs\\\\source\\\\examples\\\\results\\\\poplar_nobranch\\\\i0\\\\poplar_nobranch_libray.csv'"
     ]
    }
   ],
   "source": [
    "sim = opt.Simulation(linkage_distribution_input=linkage_distribution_input,\n",
    "                     monomer_distribution_input=monomer_distribution_input,\n",
    "                     expected_size=expected_size,\n",
    "                     max_size=max_size,\n",
    "                     distribution_scaling=distribution_scaling,\n",
    "                     Tmetro=Tmetro,\n",
    "                     Tmetro_out=Tmetro_out,\n",
    "                     seed_init=seed_init,\n",
    "                     library_name=library_name,\n",
    "                     n_population=n_population,\n",
    "                     i_max=i_max,\n",
    "                     i_max_out=i_max_out,\n",
    "                     i_max_ring=i_max_ring,\n",
    "                     additional_metrics=additional_metrics,\n",
    "                     population_metrics=population_metrics,\n",
    "                     size_in_MW=size_in_MW, \n",
    "                     branching_propensity=branching_propensity,\n",
    "                     verbose=verbose)\n",
    "\n",
    "sim.run()"
   ]
  }
 ],
 "metadata": {
  "kernelspec": {
   "display_name": "Python 3",
   "language": "python",
   "name": "python3"
  },
  "language_info": {
   "codemirror_mode": {
    "name": "ipython",
    "version": 3
   },
   "file_extension": ".py",
   "mimetype": "text/x-python",
   "name": "python",
   "nbconvert_exporter": "python",
   "pygments_lexer": "ipython3",
   "version": "3.7.7"
  }
 },
 "nbformat": 4,
 "nbformat_minor": 5
}
