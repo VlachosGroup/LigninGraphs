{
 "cells": [
  {
   "cell_type": "markdown",
   "id": "median-event",
   "metadata": {},
   "source": [
    "# 09_miscanthus_optimal\n",
    "Miscanthus - Optimal Simulation Configuration\n",
    "<br/>Simulation miscanthus_weights i_77"
   ]
  },
  {
   "cell_type": "markdown",
   "id": "clear-plastic",
   "metadata": {},
   "source": [
    "Import Code for Lignin Optimization"
   ]
  },
  {
   "cell_type": "code",
   "execution_count": 1,
   "id": "printable-smell",
   "metadata": {},
   "outputs": [],
   "source": [
    "# set ligning path (optional if installed via pip)\n",
    "import sys, os\n",
    "project_path = os.path.abspath(os.path.join(os.getcwd(), '..\\..\\..'))\n",
    "sys.path.insert(0, project_path)\n",
    "\n",
    "import ligning.optimization as opt\n",
    "import ligning.characterization as ch\n",
    "import ligning.utils as ut"
   ]
  },
  {
   "cell_type": "markdown",
   "id": "environmental-angola",
   "metadata": {},
   "source": [
    "Set the destination of simulation outputs. ResultsName sets the first level of storage, library_name specifies the folder within 'demo_results' and the trial_index is optional, specifying the test number. This allows data from multiple simulations to be stored, rather than overwriting past results, if no trial_index is given"
   ]
  },
  {
   "cell_type": "code",
   "execution_count": 2,
   "id": "written-russian",
   "metadata": {},
   "outputs": [],
   "source": [
    "ResultsName='demo_results'\n",
    "library_name = 'miscanthus_weights'\n",
    "trial_index = 0"
   ]
  },
  {
   "cell_type": "markdown",
   "id": "agricultural-finder",
   "metadata": {},
   "source": [
    "Set distribution of linkages<br>\n",
    "This sets the expected frequency of each type of linkage between monomers. Setting to 0 will disable that linkage for the simulation. <br>\n",
    "['4-O-5', 'alpha-O-4', 'beta-O-4', '5-5', 'beta-5', 'beta-beta', 'beta-1']"
   ]
  },
  {
   "cell_type": "code",
   "execution_count": 3,
   "id": "decent-scratch",
   "metadata": {},
   "outputs": [],
   "source": [
    "linkage_distribution_input =  [0, 0, 68, 0, 15, 17, 0] "
   ]
  },
  {
   "cell_type": "markdown",
   "id": "comparable-ordinance",
   "metadata": {},
   "source": [
    "Set monomer distributions<br>\n",
    "This sets the expected frequency of each type of monomers. Setting to 0 will disable that monomer for the simulation. <br>\n",
    "['H', 'G', 'S']"
   ]
  },
  {
   "cell_type": "code",
   "execution_count": 4,
   "id": "accurate-directive",
   "metadata": {},
   "outputs": [],
   "source": [
    "monomer_distribution_input = [4, 46, 50]"
   ]
  },
  {
   "cell_type": "markdown",
   "id": "collectible-radar",
   "metadata": {},
   "source": [
    "Setting for additional metrics in simulation output <br>\n",
    "Verbose reports monomer additions to polymers. <br>\n",
    "Additional_metrics reports population data such as branching coefficient in the simulation output."
   ]
  },
  {
   "cell_type": "code",
   "execution_count": 5,
   "id": "purple-pulse",
   "metadata": {},
   "outputs": [],
   "source": [
    "verbose = False\n",
    "additional_metrics = 0.0"
   ]
  },
  {
   "cell_type": "markdown",
   "id": "excessive-invalid",
   "metadata": {},
   "source": [
    "Set branching propensity of polymers <br>\n",
    "Likelihood of a monomer linking to 3 or more neighboring monomers."
   ]
  },
  {
   "cell_type": "code",
   "execution_count": 6,
   "id": "sufficient-astrology",
   "metadata": {},
   "outputs": [],
   "source": [
    "branching_propensity = 0.0"
   ]
  },
  {
   "cell_type": "markdown",
   "id": "driven-fireplace",
   "metadata": {},
   "source": [
    "Set population metrics <br>\n",
    "Determines the target monomer size for the simulation. <br>\n",
    "['number average molecular weight', 'weight average molecular weight']"
   ]
  },
  {
   "cell_type": "code",
   "execution_count": 7,
   "id": "digital-confidence",
   "metadata": {},
   "outputs": [],
   "source": [
    "population_metrics = [1240, 2310]"
   ]
  },
  {
   "cell_type": "markdown",
   "id": "noted-design",
   "metadata": {},
   "source": [
    "Additional setting for expectations the size of the polymer population, including the expected average size, maximum polymer size, and distribution of sizes of polymers."
   ]
  },
  {
   "cell_type": "code",
   "execution_count": 8,
   "id": "mexican-rotation",
   "metadata": {},
   "outputs": [],
   "source": [
    "expected_size = 1240\n",
    "max_size = 10000\n",
    "\n",
    "# size distribution scaling factor\n",
    "distribution_scaling = 0.1\n",
    "\n",
    "# size in MW\n",
    "size_in_MW = True"
   ]
  },
  {
   "cell_type": "markdown",
   "id": "agricultural-impossible",
   "metadata": {},
   "source": [
    "Metropolis Temperatures <br>\n",
    "The temperature for the Metropolis Monte Carlo in monomer addition (Tmetro) and polymer addition (Tmetro_out)."
   ]
  },
  {
   "cell_type": "code",
   "execution_count": 9,
   "id": "trained-margin",
   "metadata": {},
   "outputs": [],
   "source": [
    "Tmetro = 5\n",
    "Tmetro_out = 5"
   ]
  },
  {
   "cell_type": "markdown",
   "id": "western-principle",
   "metadata": {},
   "source": [
    "Simulation settings<br>\n",
    "Maximum iterations for monomer addition to each polymer, polymer addition to the population, and ring addition to the population. N_population is the number of polymers in the population. Seed_init sets the random seed for the simulation."
   ]
  },
  {
   "cell_type": "code",
   "execution_count": 10,
   "id": "finished-alarm",
   "metadata": {},
   "outputs": [],
   "source": [
    "i_max = 1000\n",
    "i_max_out = 1000\n",
    "i_max_ring = 500\n",
    "\n",
    "n_population = 100\n",
    "\n",
    "seed_init = 1"
   ]
  },
  {
   "cell_type": "markdown",
   "id": "tribal-clone",
   "metadata": {},
   "source": [
    "(Optional) Set metric weights<br>\n",
    "13 metrics are available<br>\n",
    "The first seven are linkage distributions: '4-O-5', 'alpha-O-4', 'beta-O-4', '5-5', 'beta-5', 'beta-beta', 'beta-1'<br>\n",
    "The next three are monomer distributions: 'H', 'G', 'S'<br>\n",
    "Then the branching coefficient <br>\n",
    "The final two are optional, representing 'number average molecular weight' and 'weight average molecular weight'"
   ]
  },
  {
   "cell_type": "code",
   "execution_count": 11,
   "id": "confidential-lancaster",
   "metadata": {},
   "outputs": [],
   "source": [
    "metrics_weights = [1, 1, 1, 1, 10, 10, 1, 1, 1, 1, 1, 10, 10]"
   ]
  },
  {
   "cell_type": "markdown",
   "id": "ready-speaking",
   "metadata": {},
   "source": [
    "Create and run the simulation"
   ]
  },
  {
   "cell_type": "code",
   "execution_count": 12,
   "id": "incomplete-bullet",
   "metadata": {},
   "outputs": [
    {
     "name": "stdout",
     "output_type": "stream",
     "text": [
      "Starting a new trial, No.0:\n",
      "\n"
     ]
    },
    {
     "name": "stderr",
     "output_type": "stream",
     "text": [
      "C:\\Users\\jake_\\Documents\\GitHub\\LigninGraphs\\ligning\\polymer.py:662: UserWarning: Input linkage type is not supported\n",
      "  warnings.warn(\"Input linkage type is not supported\")\n"
     ]
    },
    {
     "name": "stdout",
     "output_type": "stream",
     "text": [
      "\tn_polymer 0 added on iteration no 0\n",
      "\tn_polymer 1 added on iteration no 1\n",
      "\tPolymer addition rejected\n",
      "\tn_polymer 2 added on iteration no 3\n",
      "\tn_polymer 3 added on iteration no 4\n",
      "\tn_polymer 4 added on iteration no 5\n",
      "\tn_polymer 5 added on iteration no 6\n",
      "\tn_polymer 6 added on iteration no 7\n",
      "\tn_polymer 7 added on iteration no 8\n",
      "\tPolymer addition rejected\n",
      "\tn_polymer 8 added on iteration no 10\n",
      "\tn_polymer 9 added on iteration no 11\n",
      "\tn_polymer 10 added on iteration no 12\n",
      "\tn_polymer 11 added on iteration no 13\n",
      "\tn_polymer 12 added on iteration no 14\n",
      "\tn_polymer 13 added on iteration no 15\n",
      "\tn_polymer 14 added on iteration no 16\n",
      "\tn_polymer 15 added on iteration no 17\n",
      "\tn_polymer 16 added on iteration no 18\n",
      "\tn_polymer 17 added on iteration no 19\n",
      "\tn_polymer 18 added on iteration no 20\n",
      "\tn_polymer 19 added on iteration no 21\n",
      "\tn_polymer 20 added on iteration no 22\n",
      "\tn_polymer 21 added on iteration no 23\n",
      "\tn_polymer 22 added on iteration no 24\n",
      "\tPolymer addition rejected\n",
      "\tn_polymer 23 added on iteration no 26\n",
      "\tn_polymer 24 added on iteration no 27\n",
      "\tn_polymer 25 added on iteration no 28\n",
      "\tn_polymer 26 added on iteration no 29\n",
      "\tn_polymer 27 added on iteration no 30\n",
      "\tPolymer addition rejected\n",
      "\tn_polymer 28 added on iteration no 32\n",
      "\tn_polymer 29 added on iteration no 33\n",
      "\tn_polymer 30 added on iteration no 34\n",
      "\tn_polymer 31 added on iteration no 35\n",
      "\tn_polymer 32 added on iteration no 36\n",
      "\tn_polymer 33 added on iteration no 37\n",
      "\tn_polymer 34 added on iteration no 38\n",
      "\tn_polymer 35 added on iteration no 39\n",
      "\tn_polymer 36 added on iteration no 40\n",
      "\tPolymer addition rejected\n",
      "\tn_polymer 37 added on iteration no 42\n",
      "\tn_polymer 38 added on iteration no 43\n",
      "\tn_polymer 39 added on iteration no 44\n",
      "\tPolymer addition rejected\n",
      "\tn_polymer 40 added on iteration no 46\n",
      "\tn_polymer 41 added on iteration no 47\n",
      "\tn_polymer 42 added on iteration no 48\n",
      "\tn_polymer 43 added on iteration no 49\n",
      "\tn_polymer 44 added on iteration no 50\n",
      "\tn_polymer 45 added on iteration no 51\n",
      "\tn_polymer 46 added on iteration no 52\n",
      "\tPolymer addition rejected\n",
      "\tn_polymer 47 added on iteration no 54\n",
      "\tn_polymer 48 added on iteration no 55\n",
      "\tn_polymer 49 added on iteration no 56\n",
      "\tn_polymer 50 added on iteration no 57\n",
      "\tn_polymer 51 added on iteration no 58\n",
      "\tPolymer addition rejected\n",
      "\tn_polymer 52 added on iteration no 60\n",
      "\tPolymer addition rejected\n",
      "\tn_polymer 53 added on iteration no 62\n",
      "\tPolymer addition rejected\n",
      "\tPolymer addition rejected\n",
      "\tPolymer addition rejected\n",
      "\tn_polymer 54 added on iteration no 66\n",
      "\tn_polymer 55 added on iteration no 67\n",
      "\tn_polymer 56 added on iteration no 68\n",
      "\tn_polymer 57 added on iteration no 69\n",
      "\tn_polymer 58 added on iteration no 70\n",
      "\tn_polymer 59 added on iteration no 71\n",
      "\tn_polymer 60 added on iteration no 72\n",
      "\tn_polymer 61 added on iteration no 73\n",
      "\tn_polymer 62 added on iteration no 74\n",
      "\tn_polymer 63 added on iteration no 75\n",
      "\tn_polymer 64 added on iteration no 76\n",
      "\tn_polymer 65 added on iteration no 77\n",
      "\tn_polymer 66 added on iteration no 78\n",
      "\tn_polymer 67 added on iteration no 79\n",
      "\tn_polymer 68 added on iteration no 80\n",
      "\tn_polymer 69 added on iteration no 81\n",
      "\tn_polymer 70 added on iteration no 82\n",
      "\tn_polymer 71 added on iteration no 83\n",
      "\tn_polymer 72 added on iteration no 84\n",
      "\tn_polymer 73 added on iteration no 85\n",
      "\tn_polymer 74 added on iteration no 86\n",
      "\tn_polymer 75 added on iteration no 87\n",
      "\tn_polymer 76 added on iteration no 88\n",
      "\tn_polymer 77 added on iteration no 89\n",
      "\tn_polymer 78 added on iteration no 90\n",
      "\tn_polymer 79 added on iteration no 91\n",
      "\tn_polymer 80 added on iteration no 92\n",
      "\tn_polymer 81 added on iteration no 93\n",
      "\tn_polymer 82 added on iteration no 94\n",
      "\tn_polymer 83 added on iteration no 95\n",
      "\tn_polymer 84 added on iteration no 96\n",
      "\tn_polymer 85 added on iteration no 97\n",
      "\tn_polymer 86 added on iteration no 98\n",
      "\tn_polymer 87 added on iteration no 99\n",
      "\tn_polymer 88 added on iteration no 100\n",
      "\tn_polymer 89 added on iteration no 101\n",
      "\tn_polymer 90 added on iteration no 102\n",
      "\tn_polymer 91 added on iteration no 103\n",
      "\tn_polymer 92 added on iteration no 104\n",
      "\tn_polymer 93 added on iteration no 105\n",
      "\tn_polymer 94 added on iteration no 106\n",
      "\tn_polymer 95 added on iteration no 107\n",
      "\tn_polymer 96 added on iteration no 108\n",
      "\tn_polymer 97 added on iteration no 109\n",
      "\tn_polymer 98 added on iteration no 110\n",
      "\tn_polymer 99 added on iteration no 111\n",
      "\tn_polymer 100 added on iteration no 112\n",
      "Runtime for creating all polymers : 19.08 minutes \n",
      "\n",
      "Target values:\n",
      "{   '4-O-5': 0.0,\n",
      "    '5-5': 0.0,\n",
      "    'G': 0.46,\n",
      "    'H': 0.04,\n",
      "    'MW': 1240.0,\n",
      "    'MW_weighted': 2310.0,\n",
      "    'S': 0.5,\n",
      "    'alpha-O-4': 0.0,\n",
      "    'beta-1': 0.0,\n",
      "    'beta-5': 0.15,\n",
      "    'beta-O-4': 0.68,\n",
      "    'beta-beta': 0.17,\n",
      "    'branching_coeff': 0.0}\n",
      "Optimal simulated values:\n",
      "{   '4-O-5': 0.0,\n",
      "    '5-5': 0.0,\n",
      "    'G': 0.47530864197530864,\n",
      "    'H': 0.040123456790123455,\n",
      "    'MW': 1238.9980990099011,\n",
      "    'MW_weighted': 1328.6685244774267,\n",
      "    'S': 0.4845679012345679,\n",
      "    'alpha-O-4': 0.0,\n",
      "    'beta-1': 0.0,\n",
      "    'beta-5': 0.12248628884826325,\n",
      "    'beta-O-4': 0.7458866544789763,\n",
      "    'beta-beta': 0.1316270566727605,\n",
      "    'branching_coeff': 0.0,\n",
      "    'monomer_count': 6.415841584158416}\n",
      "\n",
      "Acceptance Rates\n",
      "Monomer Acceptance: 0.01020652141426821\n",
      "Polymer Acceptance: 0.9017857142857143\n",
      "Runtime for analyzing the results : 0.03 minutes \n",
      "\n"
     ]
    },
    {
     "name": "stderr",
     "output_type": "stream",
     "text": [
      "C:\\Users\\jake_\\Documents\\GitHub\\LigninGraphs\\ligning\\characterization.py:616: FutureWarning: Dropping of nuisance columns in DataFrame reductions (with 'numeric_only=None') is deprecated; in a future version this will raise TypeError.  Select only valid columns before calling the reduction.\n",
      "  numerical_metrics = list(population_data.mean().index)\n",
      "C:\\Users\\jake_\\Documents\\GitHub\\LigninGraphs\\ligning\\characterization.py:617: FutureWarning: Dropping of nuisance columns in DataFrame reductions (with 'numeric_only=None') is deprecated; in a future version this will raise TypeError.  Select only valid columns before calling the reduction.\n",
      "  population_mean = np.array([population_data.mean()])\n",
      "C:\\Users\\jake_\\Documents\\GitHub\\LigninGraphs\\ligning\\characterization.py:618: FutureWarning: Dropping of nuisance columns in DataFrame reductions (with 'numeric_only=None') is deprecated; in a future version this will raise TypeError.  Select only valid columns before calling the reduction.\n",
      "  population_std = np.array([population_data.std()])\n"
     ]
    }
   ],
   "source": [
    "sim = opt.Simulation(linkage_distribution_input=linkage_distribution_input,\n",
    "                     monomer_distribution_input=monomer_distribution_input,\n",
    "                     expected_size=expected_size,\n",
    "                     max_size=max_size,\n",
    "                     distribution_scaling=distribution_scaling,\n",
    "                     Tmetro=Tmetro,\n",
    "                     Tmetro_out=Tmetro_out,\n",
    "                     seed_init=seed_init,\n",
    "                     ResultsName=ResultsName,\n",
    "                     library_name=library_name,\n",
    "                     trial_index=trial_index,\n",
    "                     n_population=n_population,\n",
    "                     i_max=i_max,\n",
    "                     i_max_out=i_max_out,\n",
    "                     i_max_ring=i_max_ring,\n",
    "                     additional_metrics=additional_metrics,\n",
    "                     population_metrics=population_metrics,\n",
    "                     size_in_MW=size_in_MW, \n",
    "                     metrics_weights=metrics_weights,\n",
    "                     branching_propensity=branching_propensity,\n",
    "                     show_plots=False)\n",
    "\n",
    "sim.run()"
   ]
  },
  {
   "cell_type": "markdown",
   "id": "5ed55212",
   "metadata": {},
   "source": [
    "Process Population"
   ]
  },
  {
   "cell_type": "code",
   "execution_count": 14,
   "id": "439b91dc",
   "metadata": {},
   "outputs": [],
   "source": [
    "P_population = sim.P_population\n",
    "population = ch.Population(P_population, name=library_name, ResultsName=ResultsName, TrialIndex=str(trial_index))\n",
    "population.analyze()"
   ]
  },
  {
   "cell_type": "code",
   "execution_count": null,
   "id": "ba157568",
   "metadata": {},
   "outputs": [],
   "source": []
  }
 ],
 "metadata": {
  "kernelspec": {
   "display_name": "Python 3",
   "language": "python",
   "name": "python3"
  },
  "language_info": {
   "codemirror_mode": {
    "name": "ipython",
    "version": 3
   },
   "file_extension": ".py",
   "mimetype": "text/x-python",
   "name": "python",
   "nbconvert_exporter": "python",
   "pygments_lexer": "ipython3",
   "version": "3.7.7"
  }
 },
 "nbformat": 4,
 "nbformat_minor": 5
}
