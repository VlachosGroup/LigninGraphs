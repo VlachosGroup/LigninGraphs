{
 "cells": [
  {
   "cell_type": "markdown",
   "id": "median-event",
   "metadata": {},
   "source": [
    "# 09_miscanthus_optimal\n",
    "Miscanthus - Optimal Simulation Configuration"
   ]
  },
  {
   "cell_type": "markdown",
   "id": "clear-plastic",
   "metadata": {},
   "source": [
    "Import Code for Lignin Optimization"
   ]
  },
  {
   "cell_type": "code",
   "execution_count": 1,
   "id": "printable-smell",
   "metadata": {},
   "outputs": [
    {
     "name": "stdout",
     "output_type": "stream",
     "text": [
      "c:\\Users\\yifan\\Documents\\GitHub\\LigninGraphs\n"
     ]
    },
    {
     "name": "stderr",
     "output_type": "stream",
     "text": [
      "RDKit WARNING: [18:15:52] Enabling RDKit 2019.09.3 jupyter extensions\n"
     ]
    }
   ],
   "source": [
    "# set ligning path (optional if installed via pip)\n",
    "import sys, os\n",
    "project_path = os.path.abspath(os.path.join(os.getcwd(), '..\\..\\..'))\n",
    "print(project_path)\n",
    "sys.path.insert(0, project_path)\n",
    "\n",
    "import ligning.optimization as opt"
   ]
  },
  {
   "cell_type": "markdown",
   "id": "environmental-angola",
   "metadata": {},
   "source": [
    "Set the destination of simulation outputs"
   ]
  },
  {
   "cell_type": "code",
   "execution_count": null,
   "id": "written-russian",
   "metadata": {},
   "outputs": [],
   "source": [
    "library_name = 'miscanthus_weights'"
   ]
  },
  {
   "cell_type": "markdown",
   "id": "agricultural-finder",
   "metadata": {},
   "source": [
    "Set distribution of linkages<br>\n",
    "['4-O-5', 'alpha-O-4', 'beta-O-4', '5-5', 'beta-5', 'beta-beta', 'beta-1']"
   ]
  },
  {
   "cell_type": "code",
   "execution_count": null,
   "id": "decent-scratch",
   "metadata": {},
   "outputs": [],
   "source": [
    "linkage_distribution_input =  [0, 0, 68, 0, 15, 17, 0] "
   ]
  },
  {
   "cell_type": "markdown",
   "id": "comparable-ordinance",
   "metadata": {},
   "source": [
    "Set monomer distributions<br>\n",
    "['H', 'G', 'S']"
   ]
  },
  {
   "cell_type": "code",
   "execution_count": null,
   "id": "accurate-directive",
   "metadata": {},
   "outputs": [],
   "source": [
    "monomer_distribution_input = [4, 46, 50]"
   ]
  },
  {
   "cell_type": "markdown",
   "id": "collectible-radar",
   "metadata": {},
   "source": [
    "Setting for additional metrics in simulation output"
   ]
  },
  {
   "cell_type": "code",
   "execution_count": null,
   "id": "purple-pulse",
   "metadata": {},
   "outputs": [],
   "source": [
    "verbose = False\n",
    "additional_metrics = 0.0"
   ]
  },
  {
   "cell_type": "markdown",
   "id": "excessive-invalid",
   "metadata": {},
   "source": [
    "Set branching propensity of polymers"
   ]
  },
  {
   "cell_type": "code",
   "execution_count": null,
   "id": "sufficient-astrology",
   "metadata": {},
   "outputs": [],
   "source": [
    "branching_propensity = 0.0"
   ]
  },
  {
   "cell_type": "markdown",
   "id": "driven-fireplace",
   "metadata": {},
   "source": [
    "Set population metrics <br>\n",
    "['number average molecular weight', 'weight average molecular weight']"
   ]
  },
  {
   "cell_type": "code",
   "execution_count": null,
   "id": "digital-confidence",
   "metadata": {},
   "outputs": [],
   "source": [
    "population_metrics = [1240, 2310]"
   ]
  },
  {
   "cell_type": "markdown",
   "id": "noted-design",
   "metadata": {},
   "source": [
    "Additional setting for expectations of population"
   ]
  },
  {
   "cell_type": "code",
   "execution_count": null,
   "id": "mexican-rotation",
   "metadata": {},
   "outputs": [],
   "source": [
    "expected_size = 1240\n",
    "max_size = 10000\n",
    "\n",
    "# size distribution scaling factor\n",
    "distribution_scaling = 0.1\n",
    "\n",
    "# size in MW\n",
    "size_in_MW = True"
   ]
  },
  {
   "cell_type": "markdown",
   "id": "agricultural-impossible",
   "metadata": {},
   "source": [
    "Metropolis Temperatures"
   ]
  },
  {
   "cell_type": "code",
   "execution_count": null,
   "id": "trained-margin",
   "metadata": {},
   "outputs": [],
   "source": [
    "Tmetro = 5\n",
    "Tmetro_out = 5"
   ]
  },
  {
   "cell_type": "markdown",
   "id": "western-principle",
   "metadata": {},
   "source": [
    "Simulation settings"
   ]
  },
  {
   "cell_type": "code",
   "execution_count": null,
   "id": "finished-alarm",
   "metadata": {},
   "outputs": [],
   "source": [
    "i_max = 1000\n",
    "i_max_out = 1000\n",
    "i_max_ring = 500\n",
    "\n",
    "n_population = 100\n",
    "\n",
    "seed_init = 1"
   ]
  },
  {
   "cell_type": "markdown",
   "id": "tribal-clone",
   "metadata": {},
   "source": [
    "Set metric weights<br>\n",
    "13 metrics are available<br>\n",
    "The first seven are linkage distributions: '4-O-5', 'alpha-O-4', 'beta-O-4', '5-5', 'beta-5', 'beta-beta', 'beta-1'<br>\n",
    "The next three are monomer distributions: 'H', 'G', 'S'<br>\n",
    "Then the branching coefficient <br>\n",
    "The final two are optional, representing 'number average molecular weight' and 'weight average molecular weight'"
   ]
  },
  {
   "cell_type": "code",
   "execution_count": null,
   "id": "confidential-lancaster",
   "metadata": {},
   "outputs": [],
   "source": [
    "metrics_weights = [1, 1, 1, 1, 10, 10, 1, 1, 1, 1, 1, 10, 10]"
   ]
  },
  {
   "cell_type": "markdown",
   "id": "ready-speaking",
   "metadata": {},
   "source": [
    "Create and run the simulation"
   ]
  },
  {
   "cell_type": "code",
   "execution_count": null,
   "id": "incomplete-bullet",
   "metadata": {},
   "outputs": [],
   "source": [
    "sim = opt.Simulation(linkage_distribution_input=linkage_distribution_input,\n",
    "                     monomer_distribution_input=monomer_distribution_input,\n",
    "                     expected_size=expected_size,\n",
    "                     max_size=max_size,\n",
    "                     distribution_scaling=distribution_scaling,\n",
    "                     Tmetro=Tmetro,\n",
    "                     Tmetro_out=Tmetro_out,\n",
    "                     seed_init=seed_init,\n",
    "                     library_name=library_name,\n",
    "                     n_population=n_population,\n",
    "                     i_max=i_max,\n",
    "                     i_max_out=i_max_out,\n",
    "                     i_max_ring=i_max_ring,\n",
    "                     additional_metrics=additional_metrics,\n",
    "                     population_metrics=population_metrics,\n",
    "                     size_in_MW=size_in_MW, \n",
    "                     metrics_weights=metrics_weights,\n",
    "                     branching_propensity=branching_propensity,\n",
    "                     show_plots=False)\n",
    "\n",
    "sim.run()"
   ]
  }
 ],
 "metadata": {
  "kernelspec": {
   "display_name": "Python 3",
   "language": "python",
   "name": "python3"
  },
  "language_info": {
   "codemirror_mode": {
    "name": "ipython",
    "version": 3
   },
   "file_extension": ".py",
   "mimetype": "text/x-python",
   "name": "python",
   "nbconvert_exporter": "python",
   "pygments_lexer": "ipython3",
   "version": "3.7.6"
  }
 },
 "nbformat": 4,
 "nbformat_minor": 5
}
