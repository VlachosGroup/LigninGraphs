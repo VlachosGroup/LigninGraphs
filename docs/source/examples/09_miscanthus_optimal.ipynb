{
 "cells": [
  {
   "cell_type": "markdown",
   "id": "median-event",
   "metadata": {},
   "source": [
    "# 09_miscanthus_optimal\n",
    "Miscanthus - Optimal Simulation Configuration"
   ]
  },
  {
   "cell_type": "markdown",
   "id": "clear-plastic",
   "metadata": {},
   "source": [
    "Import Code for Lignin Optimization"
   ]
  },
  {
   "cell_type": "code",
   "execution_count": 1,
   "id": "printable-smell",
   "metadata": {},
   "outputs": [],
   "source": [
    "# set ligning path (optional if installed via pip)\n",
    "import sys, os\n",
    "project_path = os.path.abspath(os.path.join(os.getcwd(), '..\\..\\..'))\n",
    "sys.path.insert(0, project_path)\n",
    "\n",
    "import ligning.optimization as opt"
   ]
  },
  {
   "cell_type": "markdown",
   "id": "environmental-angola",
   "metadata": {},
   "source": [
    "Set the destination of simulation outputs. Library_name specifies the folder within 'demo_results' and the trial_index is optional, specifying the test number."
   ]
  },
  {
   "cell_type": "code",
   "execution_count": 2,
   "id": "written-russian",
   "metadata": {},
   "outputs": [],
   "source": [
    "library_name = 'miscanthus_weights'\n",
    "trial_index = 0"
   ]
  },
  {
   "cell_type": "markdown",
   "id": "agricultural-finder",
   "metadata": {},
   "source": [
    "Set distribution of linkages<br>\n",
    "['4-O-5', 'alpha-O-4', 'beta-O-4', '5-5', 'beta-5', 'beta-beta', 'beta-1']"
   ]
  },
  {
   "cell_type": "code",
   "execution_count": 3,
   "id": "decent-scratch",
   "metadata": {},
   "outputs": [],
   "source": [
    "linkage_distribution_input =  [0, 0, 68, 0, 15, 17, 0] "
   ]
  },
  {
   "cell_type": "markdown",
   "id": "comparable-ordinance",
   "metadata": {},
   "source": [
    "Set monomer distributions<br>\n",
    "['H', 'G', 'S']"
   ]
  },
  {
   "cell_type": "code",
   "execution_count": 4,
   "id": "accurate-directive",
   "metadata": {},
   "outputs": [],
   "source": [
    "monomer_distribution_input = [4, 46, 50]"
   ]
  },
  {
   "cell_type": "markdown",
   "id": "collectible-radar",
   "metadata": {},
   "source": [
    "Setting for additional metrics in simulation output"
   ]
  },
  {
   "cell_type": "code",
   "execution_count": 5,
   "id": "purple-pulse",
   "metadata": {},
   "outputs": [],
   "source": [
    "verbose = False\n",
    "additional_metrics = 0.0"
   ]
  },
  {
   "cell_type": "markdown",
   "id": "excessive-invalid",
   "metadata": {},
   "source": [
    "Set branching propensity of polymers"
   ]
  },
  {
   "cell_type": "code",
   "execution_count": 6,
   "id": "sufficient-astrology",
   "metadata": {},
   "outputs": [],
   "source": [
    "branching_propensity = 0.0"
   ]
  },
  {
   "cell_type": "markdown",
   "id": "driven-fireplace",
   "metadata": {},
   "source": [
    "Set population metrics <br>\n",
    "['number average molecular weight', 'weight average molecular weight']"
   ]
  },
  {
   "cell_type": "code",
   "execution_count": 7,
   "id": "digital-confidence",
   "metadata": {},
   "outputs": [],
   "source": [
    "population_metrics = [1240, 2310]"
   ]
  },
  {
   "cell_type": "markdown",
   "id": "noted-design",
   "metadata": {},
   "source": [
    "Additional setting for expectations of population"
   ]
  },
  {
   "cell_type": "code",
   "execution_count": 8,
   "id": "mexican-rotation",
   "metadata": {},
   "outputs": [],
   "source": [
    "expected_size = 1240\n",
    "max_size = 10000\n",
    "\n",
    "# size distribution scaling factor\n",
    "distribution_scaling = 0.1\n",
    "\n",
    "# size in MW\n",
    "size_in_MW = True"
   ]
  },
  {
   "cell_type": "markdown",
   "id": "agricultural-impossible",
   "metadata": {},
   "source": [
    "Metropolis Temperatures"
   ]
  },
  {
   "cell_type": "code",
   "execution_count": 9,
   "id": "trained-margin",
   "metadata": {},
   "outputs": [],
   "source": [
    "Tmetro = 5\n",
    "Tmetro_out = 5"
   ]
  },
  {
   "cell_type": "markdown",
   "id": "western-principle",
   "metadata": {},
   "source": [
    "Simulation settings"
   ]
  },
  {
   "cell_type": "code",
   "execution_count": 10,
   "id": "finished-alarm",
   "metadata": {},
   "outputs": [],
   "source": [
    "i_max = 1000\n",
    "i_max_out = 1000\n",
    "i_max_ring = 500\n",
    "\n",
    "n_population = 100\n",
    "\n",
    "seed_init = 1"
   ]
  },
  {
   "cell_type": "markdown",
   "id": "tribal-clone",
   "metadata": {},
   "source": [
    "Set metric weights<br>\n",
    "13 metrics are available<br>\n",
    "The first seven are linkage distributions: '4-O-5', 'alpha-O-4', 'beta-O-4', '5-5', 'beta-5', 'beta-beta', 'beta-1'<br>\n",
    "The next three are monomer distributions: 'H', 'G', 'S'<br>\n",
    "Then the branching coefficient <br>\n",
    "The final two are optional, representing 'number average molecular weight' and 'weight average molecular weight'"
   ]
  },
  {
   "cell_type": "code",
   "execution_count": 11,
   "id": "confidential-lancaster",
   "metadata": {},
   "outputs": [],
   "source": [
    "metrics_weights = [1, 1, 1, 1, 10, 10, 1, 1, 1, 1, 1, 10, 10]"
   ]
  },
  {
   "cell_type": "markdown",
   "id": "ready-speaking",
   "metadata": {},
   "source": [
    "Create and run the simulation"
   ]
  },
  {
   "cell_type": "code",
   "execution_count": 13,
   "id": "incomplete-bullet",
   "metadata": {},
   "outputs": [
    {
     "name": "stdout",
     "output_type": "stream",
     "text": [
      "Starting a new trial, No.0:\n",
      "\n"
     ]
    },
    {
     "ename": "PermissionError",
     "evalue": "[WinError 32] The process cannot access the file because it is being used by another process: 'C:\\\\Users\\\\jake_\\\\Documents\\\\GitHub\\\\LigninGraphs\\\\docs\\\\source\\\\examples\\\\demo_results\\\\miscanthus_weights\\\\i0'",
     "output_type": "error",
     "traceback": [
      "\u001b[1;31m---------------------------------------------------------------------------\u001b[0m",
      "\u001b[1;31mPermissionError\u001b[0m                           Traceback (most recent call last)",
      "\u001b[1;32m<ipython-input-13-3f511979739d>\u001b[0m in \u001b[0;36m<module>\u001b[1;34m\u001b[0m\n\u001b[0;32m     18\u001b[0m                      \u001b[0mmetrics_weights\u001b[0m\u001b[1;33m=\u001b[0m\u001b[0mmetrics_weights\u001b[0m\u001b[1;33m,\u001b[0m\u001b[1;33m\u001b[0m\u001b[1;33m\u001b[0m\u001b[0m\n\u001b[0;32m     19\u001b[0m                      \u001b[0mbranching_propensity\u001b[0m\u001b[1;33m=\u001b[0m\u001b[0mbranching_propensity\u001b[0m\u001b[1;33m,\u001b[0m\u001b[1;33m\u001b[0m\u001b[1;33m\u001b[0m\u001b[0m\n\u001b[1;32m---> 20\u001b[1;33m                      show_plots=False)\n\u001b[0m\u001b[0;32m     21\u001b[0m \u001b[1;33m\u001b[0m\u001b[0m\n\u001b[0;32m     22\u001b[0m \u001b[0msim\u001b[0m\u001b[1;33m.\u001b[0m\u001b[0mrun\u001b[0m\u001b[1;33m(\u001b[0m\u001b[1;33m)\u001b[0m\u001b[1;33m\u001b[0m\u001b[1;33m\u001b[0m\u001b[0m\n",
      "\u001b[1;32m~\\Documents\\GitHub\\LigninGraphs\\ligning\\optimization.py\u001b[0m in \u001b[0;36m__init__\u001b[1;34m(self, linkage_distribution_input, monomer_distribution_input, expected_size, max_size, distribution_scaling, Tmetro, Tmetro_out, seed_init, library_name, trial_index, n_population, i_max, i_max_out, i_max_ring, additional_metrics, population_metrics, size_in_MW, branching_propensity, metrics_weights, verbose, show_plots, save_path)\u001b[0m\n\u001b[0;32m    500\u001b[0m         \u001b[0mprint\u001b[0m\u001b[1;33m(\u001b[0m\u001b[1;34m\"Starting a new trial, No.{}:\\n\"\u001b[0m\u001b[1;33m.\u001b[0m \u001b[0mformat\u001b[0m\u001b[1;33m(\u001b[0m\u001b[0mtrial_index\u001b[0m\u001b[1;33m)\u001b[0m\u001b[1;33m)\u001b[0m\u001b[1;33m\u001b[0m\u001b[1;33m\u001b[0m\u001b[0m\n\u001b[0;32m    501\u001b[0m \u001b[1;33m\u001b[0m\u001b[0m\n\u001b[1;32m--> 502\u001b[1;33m         \u001b[1;32mif\u001b[0m \u001b[0mos\u001b[0m\u001b[1;33m.\u001b[0m\u001b[0mpath\u001b[0m\u001b[1;33m.\u001b[0m\u001b[0mexists\u001b[0m\u001b[1;33m(\u001b[0m\u001b[0mResultsPath\u001b[0m\u001b[1;33m)\u001b[0m\u001b[1;33m:\u001b[0m \u001b[0mshutil\u001b[0m\u001b[1;33m.\u001b[0m\u001b[0mrmtree\u001b[0m\u001b[1;33m(\u001b[0m\u001b[0mResultsPath\u001b[0m\u001b[1;33m)\u001b[0m\u001b[1;33m\u001b[0m\u001b[1;33m\u001b[0m\u001b[0m\n\u001b[0m\u001b[0;32m    503\u001b[0m         \u001b[0mos\u001b[0m\u001b[1;33m.\u001b[0m\u001b[0mmkdir\u001b[0m\u001b[1;33m(\u001b[0m\u001b[0mResultsPath\u001b[0m\u001b[1;33m)\u001b[0m\u001b[1;33m\u001b[0m\u001b[1;33m\u001b[0m\u001b[0m\n\u001b[0;32m    504\u001b[0m \u001b[1;33m\u001b[0m\u001b[0m\n",
      "\u001b[1;32m~\\anaconda3\\envs\\env4\\lib\\shutil.py\u001b[0m in \u001b[0;36mrmtree\u001b[1;34m(path, ignore_errors, onerror)\u001b[0m\n\u001b[0;32m    514\u001b[0m             \u001b[1;31m# can't continue even if onerror hook returns\u001b[0m\u001b[1;33m\u001b[0m\u001b[1;33m\u001b[0m\u001b[1;33m\u001b[0m\u001b[0m\n\u001b[0;32m    515\u001b[0m             \u001b[1;32mreturn\u001b[0m\u001b[1;33m\u001b[0m\u001b[1;33m\u001b[0m\u001b[0m\n\u001b[1;32m--> 516\u001b[1;33m         \u001b[1;32mreturn\u001b[0m \u001b[0m_rmtree_unsafe\u001b[0m\u001b[1;33m(\u001b[0m\u001b[0mpath\u001b[0m\u001b[1;33m,\u001b[0m \u001b[0monerror\u001b[0m\u001b[1;33m)\u001b[0m\u001b[1;33m\u001b[0m\u001b[1;33m\u001b[0m\u001b[0m\n\u001b[0m\u001b[0;32m    517\u001b[0m \u001b[1;33m\u001b[0m\u001b[0m\n\u001b[0;32m    518\u001b[0m \u001b[1;31m# Allow introspection of whether or not the hardening against symlink\u001b[0m\u001b[1;33m\u001b[0m\u001b[1;33m\u001b[0m\u001b[1;33m\u001b[0m\u001b[0m\n",
      "\u001b[1;32m~\\anaconda3\\envs\\env4\\lib\\shutil.py\u001b[0m in \u001b[0;36m_rmtree_unsafe\u001b[1;34m(path, onerror)\u001b[0m\n\u001b[0;32m    402\u001b[0m         \u001b[0mos\u001b[0m\u001b[1;33m.\u001b[0m\u001b[0mrmdir\u001b[0m\u001b[1;33m(\u001b[0m\u001b[0mpath\u001b[0m\u001b[1;33m)\u001b[0m\u001b[1;33m\u001b[0m\u001b[1;33m\u001b[0m\u001b[0m\n\u001b[0;32m    403\u001b[0m     \u001b[1;32mexcept\u001b[0m \u001b[0mOSError\u001b[0m\u001b[1;33m:\u001b[0m\u001b[1;33m\u001b[0m\u001b[1;33m\u001b[0m\u001b[0m\n\u001b[1;32m--> 404\u001b[1;33m         \u001b[0monerror\u001b[0m\u001b[1;33m(\u001b[0m\u001b[0mos\u001b[0m\u001b[1;33m.\u001b[0m\u001b[0mrmdir\u001b[0m\u001b[1;33m,\u001b[0m \u001b[0mpath\u001b[0m\u001b[1;33m,\u001b[0m \u001b[0msys\u001b[0m\u001b[1;33m.\u001b[0m\u001b[0mexc_info\u001b[0m\u001b[1;33m(\u001b[0m\u001b[1;33m)\u001b[0m\u001b[1;33m)\u001b[0m\u001b[1;33m\u001b[0m\u001b[1;33m\u001b[0m\u001b[0m\n\u001b[0m\u001b[0;32m    405\u001b[0m \u001b[1;33m\u001b[0m\u001b[0m\n\u001b[0;32m    406\u001b[0m \u001b[1;31m# Version using fd-based APIs to protect against races\u001b[0m\u001b[1;33m\u001b[0m\u001b[1;33m\u001b[0m\u001b[1;33m\u001b[0m\u001b[0m\n",
      "\u001b[1;32m~\\anaconda3\\envs\\env4\\lib\\shutil.py\u001b[0m in \u001b[0;36m_rmtree_unsafe\u001b[1;34m(path, onerror)\u001b[0m\n\u001b[0;32m    400\u001b[0m                 \u001b[0monerror\u001b[0m\u001b[1;33m(\u001b[0m\u001b[0mos\u001b[0m\u001b[1;33m.\u001b[0m\u001b[0munlink\u001b[0m\u001b[1;33m,\u001b[0m \u001b[0mfullname\u001b[0m\u001b[1;33m,\u001b[0m \u001b[0msys\u001b[0m\u001b[1;33m.\u001b[0m\u001b[0mexc_info\u001b[0m\u001b[1;33m(\u001b[0m\u001b[1;33m)\u001b[0m\u001b[1;33m)\u001b[0m\u001b[1;33m\u001b[0m\u001b[1;33m\u001b[0m\u001b[0m\n\u001b[0;32m    401\u001b[0m     \u001b[1;32mtry\u001b[0m\u001b[1;33m:\u001b[0m\u001b[1;33m\u001b[0m\u001b[1;33m\u001b[0m\u001b[0m\n\u001b[1;32m--> 402\u001b[1;33m         \u001b[0mos\u001b[0m\u001b[1;33m.\u001b[0m\u001b[0mrmdir\u001b[0m\u001b[1;33m(\u001b[0m\u001b[0mpath\u001b[0m\u001b[1;33m)\u001b[0m\u001b[1;33m\u001b[0m\u001b[1;33m\u001b[0m\u001b[0m\n\u001b[0m\u001b[0;32m    403\u001b[0m     \u001b[1;32mexcept\u001b[0m \u001b[0mOSError\u001b[0m\u001b[1;33m:\u001b[0m\u001b[1;33m\u001b[0m\u001b[1;33m\u001b[0m\u001b[0m\n\u001b[0;32m    404\u001b[0m         \u001b[0monerror\u001b[0m\u001b[1;33m(\u001b[0m\u001b[0mos\u001b[0m\u001b[1;33m.\u001b[0m\u001b[0mrmdir\u001b[0m\u001b[1;33m,\u001b[0m \u001b[0mpath\u001b[0m\u001b[1;33m,\u001b[0m \u001b[0msys\u001b[0m\u001b[1;33m.\u001b[0m\u001b[0mexc_info\u001b[0m\u001b[1;33m(\u001b[0m\u001b[1;33m)\u001b[0m\u001b[1;33m)\u001b[0m\u001b[1;33m\u001b[0m\u001b[1;33m\u001b[0m\u001b[0m\n",
      "\u001b[1;31mPermissionError\u001b[0m: [WinError 32] The process cannot access the file because it is being used by another process: 'C:\\\\Users\\\\jake_\\\\Documents\\\\GitHub\\\\LigninGraphs\\\\docs\\\\source\\\\examples\\\\demo_results\\\\miscanthus_weights\\\\i0'"
     ]
    }
   ],
   "source": [
    "sim = opt.Simulation(linkage_distribution_input=linkage_distribution_input,\n",
    "                     monomer_distribution_input=monomer_distribution_input,\n",
    "                     expected_size=expected_size,\n",
    "                     max_size=max_size,\n",
    "                     distribution_scaling=distribution_scaling,\n",
    "                     Tmetro=Tmetro,\n",
    "                     Tmetro_out=Tmetro_out,\n",
    "                     seed_init=seed_init,\n",
    "                     library_name=library_name,\n",
    "                     trial_index=trial_index,\n",
    "                     n_population=n_population,\n",
    "                     i_max=i_max,\n",
    "                     i_max_out=i_max_out,\n",
    "                     i_max_ring=i_max_ring,\n",
    "                     additional_metrics=additional_metrics,\n",
    "                     population_metrics=population_metrics,\n",
    "                     size_in_MW=size_in_MW, \n",
    "                     metrics_weights=metrics_weights,\n",
    "                     branching_propensity=branching_propensity,\n",
    "                     show_plots=False)\n",
    "\n",
    "sim.run()"
   ]
  },
  {
   "cell_type": "code",
   "execution_count": null,
   "id": "direct-module",
   "metadata": {},
   "outputs": [],
   "source": []
  }
 ],
 "metadata": {
  "kernelspec": {
   "display_name": "Python 3",
   "language": "python",
   "name": "python3"
  },
  "language_info": {
   "codemirror_mode": {
    "name": "ipython",
    "version": 3
   },
   "file_extension": ".py",
   "mimetype": "text/x-python",
   "name": "python",
   "nbconvert_exporter": "python",
   "pygments_lexer": "ipython3",
   "version": "3.7.7"
  }
 },
 "nbformat": 4,
 "nbformat_minor": 5
}
