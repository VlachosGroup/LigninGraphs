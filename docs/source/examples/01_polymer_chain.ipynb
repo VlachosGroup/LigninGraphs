{
 "cells": [
  {
   "cell_type": "markdown",
   "metadata": {},
   "source": [
    "# Create monomers and linear polymer chains"
   ]
  },
  {
   "cell_type": "code",
   "execution_count": 1,
   "metadata": {},
   "outputs": [
    {
     "ename": "ModuleNotFoundError",
     "evalue": "No module named 'ligning'",
     "output_type": "error",
     "traceback": [
      "\u001b[0;31m---------------------------------------------------------------------------\u001b[0m",
      "\u001b[0;31mModuleNotFoundError\u001b[0m                       Traceback (most recent call last)",
      "\u001b[0;32m<ipython-input-1-a24db133cda3>\u001b[0m in \u001b[0;36m<module>\u001b[0;34m\u001b[0m\n\u001b[0;32m----> 1\u001b[0;31m \u001b[0;32mimport\u001b[0m \u001b[0mligning\u001b[0m\u001b[0;34m.\u001b[0m\u001b[0mcharacterization\u001b[0m \u001b[0;32mas\u001b[0m \u001b[0mch\u001b[0m\u001b[0;34m\u001b[0m\u001b[0;34m\u001b[0m\u001b[0m\n\u001b[0m\u001b[1;32m      2\u001b[0m \u001b[0;32mimport\u001b[0m \u001b[0mligning\u001b[0m\u001b[0;34m.\u001b[0m\u001b[0mmonomer\u001b[0m \u001b[0;32mas\u001b[0m \u001b[0mmono\u001b[0m\u001b[0;34m\u001b[0m\u001b[0;34m\u001b[0m\u001b[0m\n\u001b[1;32m      3\u001b[0m \u001b[0;32mimport\u001b[0m \u001b[0mligning\u001b[0m\u001b[0;34m.\u001b[0m\u001b[0mpolymer\u001b[0m \u001b[0;32mas\u001b[0m \u001b[0mpoly\u001b[0m\u001b[0;34m\u001b[0m\u001b[0;34m\u001b[0m\u001b[0m\n\u001b[1;32m      4\u001b[0m \u001b[0;32mimport\u001b[0m \u001b[0mligning\u001b[0m\u001b[0;34m.\u001b[0m\u001b[0mutils\u001b[0m \u001b[0;32mas\u001b[0m \u001b[0mut\u001b[0m\u001b[0;34m\u001b[0m\u001b[0;34m\u001b[0m\u001b[0m\n\u001b[1;32m      5\u001b[0m \u001b[0;32mfrom\u001b[0m \u001b[0mligning\u001b[0m\u001b[0;34m.\u001b[0m\u001b[0mrules\u001b[0m \u001b[0;32mimport\u001b[0m \u001b[0mlinkage_ring\u001b[0m\u001b[0;34m\u001b[0m\u001b[0;34m\u001b[0m\u001b[0m\n",
      "\u001b[0;31mModuleNotFoundError\u001b[0m: No module named 'ligning'"
     ]
    }
   ],
   "source": [
    "import ligning.characterization as ch\n",
    "import ligning.monomer as mono\n",
    "import ligning.polymer as poly\n",
    "import ligning.utils as ut\n",
    "from ligning.rules import linkage_ring\n",
    "import time \n",
    "from rdkit import Chem"
   ]
  },
  {
   "cell_type": "markdown",
   "metadata": {},
   "source": [
    "Constructing a polymer chain\n",
    "\n",
    "Starting from a H monomer"
   ]
  },
  {
   "cell_type": "code",
   "execution_count": null,
   "metadata": {},
   "outputs": [],
   "source": [
    "P0 = mono.Monomer(\"G\")\n",
    "P0_G = P0.create()\n",
    "ut.draw_graph(P0_G)\n",
    "\n",
    "polymer = poly.Polymer(P0)"
   ]
  },
  {
   "cell_type": "markdown",
   "metadata": {},
   "source": [
    "Add a G monomer with a linkage\n"
   ]
  },
  {
   "cell_type": "code",
   "execution_count": null,
   "metadata": {},
   "outputs": [],
   "source": [
    "polymer.add_specific_linkage(linkage_type = 'beta-O-4', monomer_type = 'G')\n",
    "P1_G = polymer.G\n",
    "ut.draw_graph(P1_G)"
   ]
  },
  {
   "cell_type": "markdown",
   "metadata": {},
   "source": [
    "Add n random monomers with beta-O-4 bonds and time the speed\n"
   ]
  },
  {
   "cell_type": "code",
   "execution_count": null,
   "metadata": {},
   "outputs": [],
   "source": [
    "start = time.time()\n",
    "n_iter = 100\n",
    "for i in range(n_iter):\n",
    "    polymer.add_specific_linkage(linkage_type ='beta-O-4', monomer_type = 'G')\n",
    "\n",
    "n_iter = 10\n",
    "for i in range(n_iter):\n",
    "    polymer.add_specific_linkage(linkage_type ='beta-beta', monomer_type = 'G')\n",
    "\n",
    "# get the molecular in mol format\n",
    "n_monomer = n_iter + 2\n",
    "P_mol = ut.graph_to_mol(polymer.G)"
   ]
  },
  {
   "cell_type": "markdown",
   "metadata": {},
   "source": [
    "Characterize the polymer"
   ]
  },
  {
   "cell_type": "code",
   "execution_count": null,
   "metadata": {},
   "outputs": [],
   "source": [
    "ch1 = ch.CharacterizeGraph(polymer.G)\n",
    "print(\"\\nCharaterizing the polymer...\\n\")\n",
    "ch1.cal_all()\n",
    "\n",
    "# Calculate and print the polymer properties using the graphs and big graphs\n",
    "ch2 = ch.Characterize(polymer)\n",
    "print(\"\\nCharaterizing the polymer...\\n\")\n",
    "ch2.cal_all()"
   ]
  }
 ],
 "metadata": {
  "interpreter": {
   "hash": "40d3a090f54c6569ab1632332b64b2c03c39dcf918b08424e98f38b5ae0af88f"
  },
  "kernelspec": {
   "display_name": "Python 3.8.3 64-bit ('base': conda)",
   "language": "python",
   "name": "python3"
  },
  "language_info": {
   "codemirror_mode": {
    "name": "ipython",
    "version": 3
   },
   "file_extension": ".py",
   "mimetype": "text/x-python",
   "name": "python",
   "nbconvert_exporter": "python",
   "pygments_lexer": "ipython3",
   "version": "3.8.3"
  },
  "orig_nbformat": 4
 },
 "nbformat": 4,
 "nbformat_minor": 2
}
