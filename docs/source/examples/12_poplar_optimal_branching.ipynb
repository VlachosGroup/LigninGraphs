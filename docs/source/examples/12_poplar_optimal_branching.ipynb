{
 "cells": [
  {
   "cell_type": "markdown",
   "id": "nasty-harvard",
   "metadata": {},
   "source": [
    "# 12_poplar_optimal_branching \n",
    "Poplar - Optimal Simulation Configuration with Branching\n",
    "<br/>Simulation poplar i_6"
   ]
  },
  {
   "cell_type": "markdown",
   "id": "empirical-pollution",
   "metadata": {},
   "source": [
    "## Poplar_weight - i_6"
   ]
  },
  {
   "cell_type": "markdown",
   "id": "accessory-blind",
   "metadata": {},
   "source": [
    "Import Code for Lignin Optimization"
   ]
  },
  {
   "cell_type": "code",
   "execution_count": 1,
   "id": "preceding-valuation",
   "metadata": {},
   "outputs": [],
   "source": [
    "# set ligning path (optional if installed via pip)\n",
    "import sys, os\n",
    "project_path = os.path.abspath(os.path.join(os.getcwd(), '..\\..\\..'))\n",
    "sys.path.insert(0, project_path)\n",
    "\n",
    "import ligning.optimization as opt"
   ]
  },
  {
   "cell_type": "markdown",
   "id": "wooden-navigator",
   "metadata": {},
   "source": [
    "Set the destination of simulation outputs"
   ]
  },
  {
   "cell_type": "code",
   "execution_count": 2,
   "id": "abroad-broadcast",
   "metadata": {},
   "outputs": [],
   "source": [
    "library_name = 'poplar_branch'"
   ]
  },
  {
   "cell_type": "markdown",
   "id": "familiar-springer",
   "metadata": {},
   "source": [
    "Set distribution of linkages<br>\n",
    "This sets the expected frequency of each type of linkage between monomers. Setting to 0 will disable that linkage for the simulation. <br>\n",
    "['4-O-5', 'alpha-O-4', 'beta-O-4', '5-5', 'beta-5', 'beta-beta', 'beta-1']"
   ]
  },
  {
   "cell_type": "code",
   "execution_count": 3,
   "id": "cloudy-mauritius",
   "metadata": {},
   "outputs": [],
   "source": [
    "linkage_distribution_input = [0, 0, 78, 0.1, 7, 15, 0] "
   ]
  },
  {
   "cell_type": "markdown",
   "id": "recent-animation",
   "metadata": {},
   "source": [
    "Set monomer distributions<br>\n",
    "This sets the expected frequency of each type of monomers. Setting to 0 will disable that monomer for the simulation. <br>\n",
    "['H', 'G', 'S']"
   ]
  },
  {
   "cell_type": "code",
   "execution_count": 4,
   "id": "owned-retirement",
   "metadata": {},
   "outputs": [],
   "source": [
    "monomer_distribution_input = [0, 37, 63]"
   ]
  },
  {
   "cell_type": "markdown",
   "id": "continental-andrews",
   "metadata": {},
   "source": [
    "Setting for additional metrics in simulation output <br>\n",
    "Verbose reports monomer additions to polymers. <br>\n",
    "Additional_metrics reports population data such as branching coefficient in the simulation output."
   ]
  },
  {
   "cell_type": "code",
   "execution_count": 5,
   "id": "continuing-grain",
   "metadata": {},
   "outputs": [],
   "source": [
    "verbose = False\n",
    "additional_metrics = True"
   ]
  },
  {
   "cell_type": "markdown",
   "id": "advanced-express",
   "metadata": {},
   "source": [
    "Set branching propensity of polymers <br>\n",
    "Likelihood of a monomer linking to 3 or more neighboring monomers."
   ]
  },
  {
   "cell_type": "code",
   "execution_count": 6,
   "id": "effective-fiction",
   "metadata": {},
   "outputs": [],
   "source": [
    "branching_propensity = None"
   ]
  },
  {
   "cell_type": "markdown",
   "id": "assigned-laugh",
   "metadata": {},
   "source": [
    "Set population metrics <br>\n",
    "Determines the target monomer size for the simulation. <br>\n",
    "['number average molecular weight', 'weight average molecular weight']"
   ]
  },
  {
   "cell_type": "code",
   "execution_count": 7,
   "id": "solved-holmes",
   "metadata": {},
   "outputs": [],
   "source": [
    "population_metrics = None"
   ]
  },
  {
   "cell_type": "markdown",
   "id": "sufficient-logic",
   "metadata": {},
   "source": [
    "Additional setting for expectations the size of the polymer population, including the expected average size, maximum polymer size, and distribution of sizes of polymers."
   ]
  },
  {
   "cell_type": "code",
   "execution_count": 8,
   "id": "absolute-legend",
   "metadata": {},
   "outputs": [],
   "source": [
    "expected_size = 7\n",
    "max_size = 100\n",
    "\n",
    "# size distribution scaling factor\n",
    "distribution_scaling = 0.1\n",
    "\n",
    "# size in MW\n",
    "size_in_MW = False"
   ]
  },
  {
   "cell_type": "markdown",
   "id": "contrary-jacket",
   "metadata": {},
   "source": [
    "Metropolis Temperatures <br>\n",
    "The temperature for the Metropolis Monte Carlo in monomer addition (Tmetro) and polymer addition (Tmetro_out)."
   ]
  },
  {
   "cell_type": "code",
   "execution_count": 9,
   "id": "opened-harris",
   "metadata": {},
   "outputs": [],
   "source": [
    "Tmetro = 1\n",
    "Tmetro_out = 1"
   ]
  },
  {
   "cell_type": "markdown",
   "id": "stuck-texas",
   "metadata": {},
   "source": [
    "Simulation settings<br>\n",
    "Maximum iterations for monomer addition to each polymer, polymer addition to the population, and ring addition to the population. N_population is the number of polymers in the population. Seed_init sets the random seed for the simulation."
   ]
  },
  {
   "cell_type": "code",
   "execution_count": 10,
   "id": "designed-decimal",
   "metadata": {},
   "outputs": [],
   "source": [
    "i_max = 1000\n",
    "i_max_out = 1000\n",
    "i_max_ring = 100\n",
    "\n",
    "n_population = 100\n",
    "\n",
    "seed_init = 1"
   ]
  },
  {
   "cell_type": "markdown",
   "id": "animated-double",
   "metadata": {},
   "source": [
    "(Optional) Set metric weights<br>\n",
    "13 metrics are available<br>\n",
    "The first seven are linkage distributions: '4-O-5', 'alpha-O-4', 'beta-O-4', '5-5', 'beta-5', 'beta-beta', 'beta-1'<br>\n",
    "The next three are monomer distributions: 'H', 'G', 'S'<br>\n",
    "Then the branching coefficient <br>\n",
    "Two optional, representing 'number average molecular weight' and 'weight average molecular weight', are not included for this simulation"
   ]
  },
  {
   "cell_type": "markdown",
   "id": "443d73a9",
   "metadata": {},
   "source": [
    "Simulation produced the best results without providing metric weights"
   ]
  },
  {
   "cell_type": "markdown",
   "id": "assisted-england",
   "metadata": {},
   "source": [
    "Create and run the simulation"
   ]
  },
  {
   "cell_type": "code",
   "execution_count": 11,
   "id": "worth-target",
   "metadata": {},
   "outputs": [
    {
     "name": "stdout",
     "output_type": "stream",
     "text": [
      "Starting a new trial, No.0:\n",
      "\n"
     ]
    },
    {
     "name": "stderr",
     "output_type": "stream",
     "text": [
      "C:\\Users\\jake_\\Documents\\GitHub\\LigninGraphs\\ligning\\polymer.py:662: UserWarning: Input linkage type is not supported\n",
      "  warnings.warn(\"Input linkage type is not supported\")\n"
     ]
    },
    {
     "name": "stdout",
     "output_type": "stream",
     "text": [
      "Runtime for creating all polymers : 40.67 minutes \n",
      "\n",
      "Runtime for adding the rings : 0.11 minutes \n",
      "\n"
     ]
    },
    {
     "ename": "FileNotFoundError",
     "evalue": "[Errno 2] No such file or directory: 'C:\\\\Users\\\\jake_\\\\Documents\\\\GitHub\\\\LigninGraphs\\\\docs\\\\source\\\\examples\\\\results\\\\poplar_branch\\\\i0\\\\poplar_branch_libray.csv'",
     "output_type": "error",
     "traceback": [
      "\u001b[1;31m---------------------------------------------------------------------------\u001b[0m",
      "\u001b[1;31mFileNotFoundError\u001b[0m                         Traceback (most recent call last)",
      "\u001b[1;32m<ipython-input-11-e3b569db12ca>\u001b[0m in \u001b[0;36m<module>\u001b[1;34m\u001b[0m\n\u001b[0;32m     18\u001b[0m                      verbose=verbose)\n\u001b[0;32m     19\u001b[0m \u001b[1;33m\u001b[0m\u001b[0m\n\u001b[1;32m---> 20\u001b[1;33m \u001b[0msim\u001b[0m\u001b[1;33m.\u001b[0m\u001b[0mrun\u001b[0m\u001b[1;33m(\u001b[0m\u001b[1;33m)\u001b[0m\u001b[1;33m\u001b[0m\u001b[1;33m\u001b[0m\u001b[0m\n\u001b[0m",
      "\u001b[1;32m~\\Documents\\GitHub\\LigninGraphs\\ligning\\optimization.py\u001b[0m in \u001b[0;36mrun\u001b[1;34m(self)\u001b[0m\n\u001b[0;32m    778\u001b[0m         \u001b[1;32melse\u001b[0m\u001b[1;33m:\u001b[0m\u001b[1;33m\u001b[0m\u001b[1;33m\u001b[0m\u001b[0m\n\u001b[0;32m    779\u001b[0m             \u001b[0mpopulation\u001b[0m \u001b[1;33m=\u001b[0m \u001b[0mch\u001b[0m\u001b[1;33m.\u001b[0m\u001b[0mPopulation\u001b[0m\u001b[1;33m(\u001b[0m\u001b[0mP_population\u001b[0m\u001b[1;33m,\u001b[0m \u001b[0mself\u001b[0m\u001b[1;33m.\u001b[0m\u001b[0mlibrary_name\u001b[0m\u001b[1;33m,\u001b[0m \u001b[0mTrialIndex\u001b[0m\u001b[1;33m=\u001b[0m\u001b[0mstr\u001b[0m\u001b[1;33m(\u001b[0m\u001b[0mself\u001b[0m\u001b[1;33m.\u001b[0m\u001b[0mtrial_index\u001b[0m\u001b[1;33m)\u001b[0m\u001b[1;33m)\u001b[0m\u001b[1;33m\u001b[0m\u001b[1;33m\u001b[0m\u001b[0m\n\u001b[1;32m--> 780\u001b[1;33m         \u001b[0mpopulation\u001b[0m\u001b[1;33m.\u001b[0m\u001b[0manalyze\u001b[0m\u001b[1;33m(\u001b[0m\u001b[1;33m)\u001b[0m\u001b[1;33m\u001b[0m\u001b[1;33m\u001b[0m\u001b[0m\n\u001b[0m\u001b[0;32m    781\u001b[0m \u001b[1;33m\u001b[0m\u001b[0m\n\u001b[0;32m    782\u001b[0m         \u001b[1;31m# the metrics average including branching coeff and MW\u001b[0m\u001b[1;33m\u001b[0m\u001b[1;33m\u001b[0m\u001b[1;33m\u001b[0m\u001b[0m\n",
      "\u001b[1;32m~\\Documents\\GitHub\\LigninGraphs\\ligning\\characterization.py\u001b[0m in \u001b[0;36manalyze\u001b[1;34m(self)\u001b[0m\n\u001b[0;32m    610\u001b[0m \u001b[1;33m\u001b[0m\u001b[0m\n\u001b[0;32m    611\u001b[0m             \u001b[1;31m# write to the data output file\u001b[0m\u001b[1;33m\u001b[0m\u001b[1;33m\u001b[0m\u001b[1;33m\u001b[0m\u001b[0m\n\u001b[1;32m--> 612\u001b[1;33m             \u001b[0mut\u001b[0m\u001b[1;33m.\u001b[0m\u001b[0mwrite_output_on_individual\u001b[0m\u001b[1;33m(\u001b[0m\u001b[0mrow_i\u001b[0m\u001b[1;33m,\u001b[0m \u001b[0mself\u001b[0m\u001b[1;33m.\u001b[0m\u001b[0mcolumn_names\u001b[0m\u001b[1;33m,\u001b[0m \u001b[0mself\u001b[0m\u001b[1;33m.\u001b[0m\u001b[0mOutputPathLibrary\u001b[0m\u001b[1;33m)\u001b[0m\u001b[1;33m\u001b[0m\u001b[1;33m\u001b[0m\u001b[0m\n\u001b[0m\u001b[0;32m    613\u001b[0m \u001b[1;33m\u001b[0m\u001b[0m\n\u001b[0;32m    614\u001b[0m         \u001b[1;31m# Calculate the population stats\u001b[0m\u001b[1;33m\u001b[0m\u001b[1;33m\u001b[0m\u001b[1;33m\u001b[0m\u001b[0m\n",
      "\u001b[1;32m~\\Documents\\GitHub\\LigninGraphs\\ligning\\utils.py\u001b[0m in \u001b[0;36mwrite_output_on_individual\u001b[1;34m(row_data, column_names, OutputPath)\u001b[0m\n\u001b[0;32m    748\u001b[0m     \u001b[0mdf\u001b[0m \u001b[1;33m=\u001b[0m \u001b[0mpd\u001b[0m\u001b[1;33m.\u001b[0m\u001b[0mDataFrame\u001b[0m\u001b[1;33m(\u001b[0m\u001b[0mrow_dict\u001b[0m\u001b[1;33m)\u001b[0m\u001b[1;33m\u001b[0m\u001b[1;33m\u001b[0m\u001b[0m\n\u001b[0;32m    749\u001b[0m \u001b[1;33m\u001b[0m\u001b[0m\n\u001b[1;32m--> 750\u001b[1;33m     \u001b[1;32mwith\u001b[0m \u001b[0mopen\u001b[0m\u001b[1;33m(\u001b[0m\u001b[0mOutputPath\u001b[0m\u001b[1;33m,\u001b[0m \u001b[1;34m'a'\u001b[0m\u001b[1;33m)\u001b[0m \u001b[1;32mas\u001b[0m \u001b[0mf\u001b[0m\u001b[1;33m:\u001b[0m\u001b[1;33m\u001b[0m\u001b[1;33m\u001b[0m\u001b[0m\n\u001b[0m\u001b[0;32m    751\u001b[0m         \u001b[0mdf\u001b[0m\u001b[1;33m.\u001b[0m\u001b[0mto_csv\u001b[0m\u001b[1;33m(\u001b[0m\u001b[0mf\u001b[0m\u001b[1;33m,\u001b[0m \u001b[0mheader\u001b[0m\u001b[1;33m=\u001b[0m\u001b[0mf\u001b[0m\u001b[1;33m.\u001b[0m\u001b[0mtell\u001b[0m\u001b[1;33m(\u001b[0m\u001b[1;33m)\u001b[0m\u001b[1;33m==\u001b[0m\u001b[1;36m0\u001b[0m\u001b[1;33m)\u001b[0m \u001b[1;31m#, index_label=False)\u001b[0m\u001b[1;33m\u001b[0m\u001b[1;33m\u001b[0m\u001b[0m\n\u001b[0;32m    752\u001b[0m \u001b[1;33m\u001b[0m\u001b[0m\n",
      "\u001b[1;31mFileNotFoundError\u001b[0m: [Errno 2] No such file or directory: 'C:\\\\Users\\\\jake_\\\\Documents\\\\GitHub\\\\LigninGraphs\\\\docs\\\\source\\\\examples\\\\results\\\\poplar_branch\\\\i0\\\\poplar_branch_libray.csv'"
     ]
    }
   ],
   "source": [
    "sim = opt.Simulation(linkage_distribution_input=linkage_distribution_input,\n",
    "                     monomer_distribution_input=monomer_distribution_input,\n",
    "                     expected_size=expected_size,\n",
    "                     max_size=max_size,\n",
    "                     distribution_scaling=distribution_scaling,\n",
    "                     Tmetro=Tmetro,\n",
    "                     Tmetro_out=Tmetro_out,\n",
    "                     seed_init=seed_init,\n",
    "                     library_name=library_name,\n",
    "                     n_population=n_population,\n",
    "                     i_max=i_max,\n",
    "                     i_max_out=i_max_out,\n",
    "                     i_max_ring=i_max_ring,\n",
    "                     additional_metrics=additional_metrics,\n",
    "                     population_metrics=population_metrics,\n",
    "                     size_in_MW=size_in_MW, \n",
    "                     branching_propensity=branching_propensity,\n",
    "                     verbose=verbose)\n",
    "\n",
    "sim.run()"
   ]
  },
  {
   "cell_type": "markdown",
   "id": "11c34e71",
   "metadata": {},
   "source": [
    "Process Population"
   ]
  },
  {
   "cell_type": "code",
   "execution_count": null,
   "id": "0bd729af",
   "metadata": {},
   "outputs": [],
   "source": [
    "P_population = sim.P_population\n",
    "population = ch.Population(P_population)\n",
    "population.analyze()"
   ]
  }
 ],
 "metadata": {
  "kernelspec": {
   "display_name": "Python 3",
   "language": "python",
   "name": "python3"
  }
 },
 "nbformat": 4,
 "nbformat_minor": 5
}
