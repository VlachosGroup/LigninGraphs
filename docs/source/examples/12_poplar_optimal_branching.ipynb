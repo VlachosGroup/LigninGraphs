{
 "cells": [
  {
   "cell_type": "markdown",
   "id": "nasty-harvard",
   "metadata": {},
   "source": [
    "# 12_poplar_optimal_branching \n",
    "Poplar - Optimal Simulation Configuration with Branching\n",
    "<br/>Simulation poplar i_6"
   ]
  },
  {
   "cell_type": "markdown",
   "id": "empirical-pollution",
   "metadata": {},
   "source": [
    "## Poplar_weight - i_6"
   ]
  },
  {
   "cell_type": "markdown",
   "id": "accessory-blind",
   "metadata": {},
   "source": [
    "Import Code for Lignin Optimization"
   ]
  },
  {
   "cell_type": "code",
   "execution_count": 1,
   "id": "preceding-valuation",
   "metadata": {},
   "outputs": [],
   "source": [
    "# set ligning path (optional if installed via pip)\n",
    "import sys, os\n",
    "project_path = os.path.abspath(os.path.join(os.getcwd(), '..\\..\\..'))\n",
    "sys.path.insert(0, project_path)\n",
    "\n",
    "import ligning.optimization as opt"
   ]
  },
  {
   "cell_type": "markdown",
   "id": "wooden-navigator",
   "metadata": {},
   "source": [
    "Set the destination of simulation outputs"
   ]
  },
  {
   "cell_type": "code",
   "execution_count": 2,
   "id": "abroad-broadcast",
   "metadata": {},
   "outputs": [],
   "source": [
    "library_name = 'poplar_branch'"
   ]
  },
  {
   "cell_type": "markdown",
   "id": "familiar-springer",
   "metadata": {},
   "source": [
    "Set distribution of linkages<br>\n",
    "This sets the expected frequency of each type of linkage between monomers. Setting to 0 will disable that linkage for the simulation. <br>\n",
    "['4-O-5', 'alpha-O-4', 'beta-O-4', '5-5', 'beta-5', 'beta-beta', 'beta-1']"
   ]
  },
  {
   "cell_type": "code",
   "execution_count": 3,
   "id": "cloudy-mauritius",
   "metadata": {},
   "outputs": [],
   "source": [
    "linkage_distribution_input = [0, 0, 78, 0.1, 7, 15, 0] "
   ]
  },
  {
   "cell_type": "markdown",
   "id": "recent-animation",
   "metadata": {},
   "source": [
    "Set monomer distributions<br>\n",
    "This sets the expected frequency of each type of monomers. Setting to 0 will disable that monomer for the simulation. <br>\n",
    "['H', 'G', 'S']"
   ]
  },
  {
   "cell_type": "code",
   "execution_count": 4,
   "id": "owned-retirement",
   "metadata": {},
   "outputs": [],
   "source": [
    "monomer_distribution_input = [0, 37, 63]"
   ]
  },
  {
   "cell_type": "markdown",
   "id": "continental-andrews",
   "metadata": {},
   "source": [
    "Setting for additional metrics in simulation output <br>\n",
    "Verbose reports monomer additions to polymers. <br>\n",
    "Additional_metrics reports population data such as branching coefficient in the simulation output."
   ]
  },
  {
   "cell_type": "code",
   "execution_count": 5,
   "id": "continuing-grain",
   "metadata": {},
   "outputs": [],
   "source": [
    "verbose = False\n",
    "additional_metrics = True"
   ]
  },
  {
   "cell_type": "markdown",
   "id": "advanced-express",
   "metadata": {},
   "source": [
    "Set branching propensity of polymers <br>\n",
    "Likelihood of a monomer linking to 3 or more neighboring monomers."
   ]
  },
  {
   "cell_type": "code",
   "execution_count": 6,
   "id": "effective-fiction",
   "metadata": {},
   "outputs": [],
   "source": [
    "branching_propensity = None"
   ]
  },
  {
   "cell_type": "markdown",
   "id": "assigned-laugh",
   "metadata": {},
   "source": [
    "Set population metrics <br>\n",
    "Determines the target monomer size for the simulation. <br>\n",
    "['number average molecular weight', 'weight average molecular weight']"
   ]
  },
  {
   "cell_type": "code",
   "execution_count": 7,
   "id": "solved-holmes",
   "metadata": {},
   "outputs": [],
   "source": [
    "population_metrics = None"
   ]
  },
  {
   "cell_type": "markdown",
   "id": "sufficient-logic",
   "metadata": {},
   "source": [
    "Additional setting for expectations the size of the polymer population, including the expected average size, maximum polymer size, and distribution of sizes of polymers."
   ]
  },
  {
   "cell_type": "code",
   "execution_count": 8,
   "id": "absolute-legend",
   "metadata": {},
   "outputs": [],
   "source": [
    "expected_size = 7\n",
    "max_size = 100\n",
    "\n",
    "# size distribution scaling factor\n",
    "distribution_scaling = 0.1\n",
    "\n",
    "# size in MW\n",
    "size_in_MW = False"
   ]
  },
  {
   "cell_type": "markdown",
   "id": "contrary-jacket",
   "metadata": {},
   "source": [
    "Metropolis Temperatures <br>\n",
    "The temperature for the Metropolis Monte Carlo in monomer addition (Tmetro) and polymer addition (Tmetro_out)."
   ]
  },
  {
   "cell_type": "code",
   "execution_count": 9,
   "id": "opened-harris",
   "metadata": {},
   "outputs": [],
   "source": [
    "Tmetro = 1\n",
    "Tmetro_out = 1"
   ]
  },
  {
   "cell_type": "markdown",
   "id": "stuck-texas",
   "metadata": {},
   "source": [
    "Simulation settings<br>\n",
    "Maximum iterations for monomer addition to each polymer, polymer addition to the population, and ring addition to the population. N_population is the number of polymers in the population. Seed_init sets the random seed for the simulation."
   ]
  },
  {
   "cell_type": "code",
   "execution_count": 10,
   "id": "designed-decimal",
   "metadata": {},
   "outputs": [],
   "source": [
    "i_max = 1000\n",
    "i_max_out = 1000\n",
    "i_max_ring = 100\n",
    "\n",
    "n_population = 100\n",
    "\n",
    "seed_init = 1"
   ]
  },
  {
   "cell_type": "markdown",
   "id": "animated-double",
   "metadata": {},
   "source": [
    "(Optional) Set metric weights<br>\n",
    "13 metrics are available<br>\n",
    "The first seven are linkage distributions: '4-O-5', 'alpha-O-4', 'beta-O-4', '5-5', 'beta-5', 'beta-beta', 'beta-1'<br>\n",
    "The next three are monomer distributions: 'H', 'G', 'S'<br>\n",
    "Then the branching coefficient <br>\n",
    "Two optional, representing 'number average molecular weight' and 'weight average molecular weight', are not included for this simulation"
   ]
  },
  {
   "cell_type": "markdown",
   "id": "5efe7669",
   "metadata": {},
   "source": [
    "Simulation produced the best results without providing metric weights"
   ]
  },
  {
   "cell_type": "markdown",
   "id": "assisted-england",
   "metadata": {},
   "source": [
    "Create and run the simulation"
   ]
  },
  {
   "cell_type": "code",
   "execution_count": null,
   "id": "worth-target",
   "metadata": {},
   "outputs": [
    {
     "name": "stdout",
     "output_type": "stream",
     "text": [
      "Starting a new trial, No.0:\n",
      "\n"
     ]
    },
    {
     "name": "stderr",
     "output_type": "stream",
     "text": [
      "C:\\Users\\jake_\\Documents\\GitHub\\LigninGraphs\\ligning\\polymer.py:662: UserWarning: Input linkage type is not supported\n",
      "  warnings.warn(\"Input linkage type is not supported\")\n"
     ]
    }
   ],
   "source": [
    "sim = opt.Simulation(linkage_distribution_input=linkage_distribution_input,\n",
    "                     monomer_distribution_input=monomer_distribution_input,\n",
    "                     expected_size=expected_size,\n",
    "                     max_size=max_size,\n",
    "                     distribution_scaling=distribution_scaling,\n",
    "                     Tmetro=Tmetro,\n",
    "                     Tmetro_out=Tmetro_out,\n",
    "                     seed_init=seed_init,\n",
    "                     library_name=library_name,\n",
    "                     n_population=n_population,\n",
    "                     i_max=i_max,\n",
    "                     i_max_out=i_max_out,\n",
    "                     i_max_ring=i_max_ring,\n",
    "                     additional_metrics=additional_metrics,\n",
    "                     population_metrics=population_metrics,\n",
    "                     size_in_MW=size_in_MW, \n",
    "                     branching_propensity=branching_propensity,\n",
    "                     verbose=verbose)\n",
    "\n",
    "sim.run()"
   ]
  },
  {
   "cell_type": "markdown",
   "id": "d4aa3781",
   "metadata": {},
   "source": [
    "Process Population"
   ]
  },
  {
   "cell_type": "code",
   "execution_count": null,
   "id": "573b4aa8",
   "metadata": {},
   "outputs": [],
   "source": [
    "P_population = sim.P_population\n",
    "population = ch.Population(P_population)\n",
    "population.analyze()"
   ]
  }
 ],
 "metadata": {
  "kernelspec": {
   "display_name": "Python 3",
   "language": "python",
   "name": "python3"
  },
  "language_info": {
   "codemirror_mode": {
    "name": "ipython",
    "version": 3
   },
   "file_extension": ".py",
   "mimetype": "text/x-python",
   "name": "python",
   "nbconvert_exporter": "python",
   "pygments_lexer": "ipython3",
   "version": "3.7.7"
  }
 },
 "nbformat": 4,
 "nbformat_minor": 5
}
