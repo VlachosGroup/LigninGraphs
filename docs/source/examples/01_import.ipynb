{
 "cells": [
  {
   "cell_type": "markdown",
   "metadata": {},
   "source": [
    "# 01_import\n",
    "Module imports and RDkit functions [![Open In Colab](https://colab.research.google.com/assets/colab-badge.svg)](https://colab.research.google.com/github/VlachosGroup/LigninGraphs/blob/master/docs/source/examples/01_import.ipynb)\n",
    "\n"
   ]
  },
  {
   "cell_type": "markdown",
   "metadata": {},
   "source": [
    "Install the package from pip (skip this step if the package is already installed)"
   ]
  },
  {
   "cell_type": "code",
   "execution_count": 1,
   "metadata": {},
   "outputs": [
    {
     "name": "stdout",
     "output_type": "stream",
     "text": [
      "Collecting ligning\n",
      "  Downloading ligning-0.1.1-py3-none-any.whl (32 kB)\n",
      "Requirement already satisfied: openpyxl>=3.0.7 in /opt/anaconda3/lib/python3.8/site-packages (from ligning) (3.0.9)\n",
      "Requirement already satisfied: matplotlib>=3.1.1 in /opt/anaconda3/lib/python3.8/site-packages (from ligning) (3.2.2)\n",
      "Requirement already satisfied: pysmiles>=1.0.1 in /opt/anaconda3/lib/python3.8/site-packages (from ligning) (1.0.1)\n",
      "Requirement already satisfied: pandas>=0.25.1 in /opt/anaconda3/lib/python3.8/site-packages (from ligning) (1.0.5)\n",
      "Requirement already satisfied: numpy>=1.19.2 in /opt/anaconda3/lib/python3.8/site-packages (from ligning) (1.20.3)\n",
      "Requirement already satisfied: pytest>=6.2.3 in /opt/anaconda3/lib/python3.8/site-packages (from ligning) (6.2.5)\n",
      "Requirement already satisfied: scipy>=1.3.1 in /opt/anaconda3/lib/python3.8/site-packages (from ligning) (1.5.0)\n",
      "Requirement already satisfied: kiwisolver>=1.0.1 in /opt/anaconda3/lib/python3.8/site-packages (from matplotlib>=3.1.1->ligning) (1.2.0)\n",
      "Requirement already satisfied: python-dateutil>=2.1 in /opt/anaconda3/lib/python3.8/site-packages (from matplotlib>=3.1.1->ligning) (2.8.1)\n",
      "Requirement already satisfied: cycler>=0.10 in /opt/anaconda3/lib/python3.8/site-packages (from matplotlib>=3.1.1->ligning) (0.10.0)\n",
      "Requirement already satisfied: pyparsing!=2.0.4,!=2.1.2,!=2.1.6,>=2.0.1 in /opt/anaconda3/lib/python3.8/site-packages (from matplotlib>=3.1.1->ligning) (2.4.7)\n",
      "Requirement already satisfied: six in /opt/anaconda3/lib/python3.8/site-packages (from cycler>=0.10->matplotlib>=3.1.1->ligning) (1.15.0)\n",
      "Collecting networkx>=2.5\n",
      "  Downloading networkx-2.8.3-py3-none-any.whl (2.0 MB)\n",
      "\u001b[K     |████████████████████████████████| 2.0 MB 15.0 MB/s eta 0:00:01\n",
      "\u001b[?25hRequirement already satisfied: et-xmlfile in /opt/anaconda3/lib/python3.8/site-packages (from openpyxl>=3.0.7->ligning) (1.0.1)\n",
      "Requirement already satisfied: pytz>=2017.2 in /opt/anaconda3/lib/python3.8/site-packages (from pandas>=0.25.1->ligning) (2020.1)\n",
      "Requirement already satisfied: pbr in /opt/anaconda3/lib/python3.8/site-packages (from pysmiles>=1.0.1->ligning) (5.6.0)\n",
      "Requirement already satisfied: attrs>=19.2.0 in /opt/anaconda3/lib/python3.8/site-packages (from pytest>=6.2.3->ligning) (19.3.0)\n",
      "Requirement already satisfied: iniconfig in /opt/anaconda3/lib/python3.8/site-packages (from pytest>=6.2.3->ligning) (1.1.1)\n",
      "Requirement already satisfied: packaging in /opt/anaconda3/lib/python3.8/site-packages (from pytest>=6.2.3->ligning) (20.4)\n",
      "Requirement already satisfied: pluggy<2.0,>=0.12 in /opt/anaconda3/lib/python3.8/site-packages (from pytest>=6.2.3->ligning) (0.13.1)\n",
      "Requirement already satisfied: py>=1.8.2 in /opt/anaconda3/lib/python3.8/site-packages (from pytest>=6.2.3->ligning) (1.9.0)\n",
      "Requirement already satisfied: toml in /opt/anaconda3/lib/python3.8/site-packages (from pytest>=6.2.3->ligning) (0.10.1)\n",
      "Collecting rdkit-pypi>=2021.9.2.1\n",
      "  Downloading rdkit_pypi-2022.3.2.1-cp38-cp38-macosx_10_9_x86_64.whl (17.9 MB)\n",
      "\u001b[K     |████████████████████████████████| 17.9 MB 31.2 MB/s eta 0:00:01\n",
      "\u001b[?25hRequirement already satisfied: Pillow in /opt/anaconda3/lib/python3.8/site-packages (from rdkit-pypi>=2021.9.2.1->ligning) (7.2.0)\n",
      "Installing collected packages: networkx, rdkit-pypi, ligning\n",
      "  Attempting uninstall: networkx\n",
      "    Found existing installation: networkx 2.4\n",
      "    Uninstalling networkx-2.4:\n",
      "      Successfully uninstalled networkx-2.4\n",
      "Successfully installed ligning-0.1.1 networkx-2.8.3 rdkit-pypi-2022.3.2.1\n"
     ]
    }
   ],
   "source": [
    "! pip install ligning"
   ]
  },
  {
   "cell_type": "markdown",
   "metadata": {},
   "source": [
    "Test LigninGraphs (ligning) and RDKit import"
   ]
  },
  {
   "cell_type": "code",
   "execution_count": 11,
   "metadata": {},
   "outputs": [
    {
     "name": "stdout",
     "output_type": "stream",
     "text": [
      "c:\\Users\\yifan\\Documents\\GitHub\\LigninGraphs\n"
     ]
    }
   ],
   "source": [
    "# set ligning path (optional if installed via pip)\n",
    "import sys, os\n",
    "project_path = os.path.abspath(os.path.join(os.getcwd(), '..\\..\\..'))\n",
    "print(project_path)\n",
    "sys.path.insert(0, project_path)\n",
    "\n",
    "\n",
    "from ligning.monomer import Monomer\n",
    "from ligning.utils import graph_to_mol\n",
    "from rdkit.Chem.Descriptors import ExactMolWt\n",
    "from rdkit.Chem.rdMolDescriptors import CalcMolFormula"
   ]
  },
  {
   "cell_type": "markdown",
   "metadata": {},
   "source": [
    "Create a H monomer\n",
    "Visualize the H monomer using the mol object"
   ]
  },
  {
   "cell_type": "code",
   "execution_count": 12,
   "metadata": {},
   "outputs": [
    {
     "data": {
      "image/png": "[encoded data removed]",
      "text/plain": [
       "<rdkit.Chem.rdchem.Mol at 0x27e3a7eff80>"
      ]
     },
     "execution_count": 12,
     "metadata": {},
     "output_type": "execute_result"
    }
   ],
   "source": [
    "H_G = Monomer('H').create()\n",
    "H_mol = graph_to_mol(H_G)\n",
    "H_mol"
   ]
  },
  {
   "cell_type": "markdown",
   "metadata": {},
   "source": [
    "Calculate the molecule weight and chemical formula "
   ]
  },
  {
   "cell_type": "code",
   "execution_count": 13,
   "metadata": {},
   "outputs": [
    {
     "name": "stdout",
     "output_type": "stream",
     "text": [
      "The molecular weight is 150.06807956\n",
      "The chemcial formula is C9H10O2\n"
     ]
    }
   ],
   "source": [
    "H_mw = ExactMolWt(H_mol)\n",
    "print('The molecular weight is {}'.format(H_mw))\n",
    "\n",
    "H_formula = CalcMolFormula(H_mol)\n",
    "print('The chemcial formula is {}'.format(H_formula))\n",
    "\n"
   ]
  }
 ],
 "metadata": {
  "interpreter": {
   "hash": "cc6e22dd85879c546cf910b115c328a7195562d627477022c496fd306a638e1c"
  },
  "kernelspec": {
   "display_name": "Python 3.7.4 64-bit ('torch': conda)",
   "language": "python",
   "name": "python3"
  },
  "language_info": {
   "codemirror_mode": {
    "name": "ipython",
    "version": 3
   },
   "file_extension": ".py",
   "mimetype": "text/x-python",
   "name": "python",
   "nbconvert_exporter": "python",
   "pygments_lexer": "ipython3",
   "version": "3.8.3"
  },
  "orig_nbformat": 4
 },
 "nbformat": 4,
 "nbformat_minor": 2
}
